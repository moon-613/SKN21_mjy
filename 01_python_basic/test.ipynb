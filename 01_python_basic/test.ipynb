{
 "cells": [
  {
   "cell_type": "markdown",
   "id": "008db31d",
   "metadata": {},
   "source": [
    "파이썬 코드 실행"
   ]
  },
  {
   "cell_type": "code",
   "execution_count": null,
   "id": "d7d60940",
   "metadata": {},
   "outputs": [],
   "source": []
  },
  {
   "cell_type": "code",
   "execution_count": null,
   "id": "192cc9ff",
   "metadata": {},
   "outputs": [
    {
     "data": {
      "text/plain": [
       "2"
      ]
     },
     "execution_count": 4,
     "metadata": {},
     "output_type": "execute_result"
    }
   ],
   "source": [
    "# 실행 단축키: Ctrl키 + Enter키(실행만), shift키 + Enter키(실행 후 다음 cell 생성)\n",
    "# cell 생성 단축키: a(위), b(아래)\n",
    "# cell 언어 모드 변경은 버튼 누르면 됨.\n",
    "1+1"
   ]
  },
  {
   "cell_type": "code",
   "execution_count": null,
   "id": "9b661a55",
   "metadata": {},
   "outputs": [],
   "source": []
  }
 ],
 "metadata": {
  "kernelspec": {
   "display_name": "Python 3",
   "language": "python",
   "name": "python3"
  },
  "language_info": {
   "codemirror_mode": {
    "name": "ipython",
    "version": 3
   },
   "file_extension": ".py",
   "mimetype": "text/x-python",
   "name": "python",
   "nbconvert_exporter": "python",
   "pygments_lexer": "ipython3",
   "version": "3.13.7"
  }
 },
 "nbformat": 4,
 "nbformat_minor": 5
}
