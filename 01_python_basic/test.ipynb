{
 "cells": [
  {
   "cell_type": "markdown",
   "id": "008db31d",
   "metadata": {},
   "source": [
    "파이썬 코드 실행"
   ]
  },
  {
   "cell_type": "code",
   "execution_count": null,
   "id": "192cc9ff",
   "metadata": {},
   "outputs": [
    {
     "data": {
      "text/plain": [
       "2"
      ]
     },
     "execution_count": 4,
     "metadata": {},
     "output_type": "execute_result"
    }
   ],
   "source": [
    "# 실행 단축키: Ctrl키 + Enter키(실행만), shift키 + Enter키(실행 후 다음 cell 생성)\n",
    "# cell 생성 단축키: a(위), b(아래)\n",
    "# cell 언어 모드 변경은 버튼 누르면 됨.\n",
    "1+1"
   ]
  },
  {
   "cell_type": "code",
   "execution_count": null,
   "id": "7d882cc8",
   "metadata": {},
   "outputs": [],
   "source": [
    "PCCE 기출문제"
   ]
  },
  {
   "cell_type": "code",
   "execution_count": null,
   "id": "9b661a55",
   "metadata": {},
   "outputs": [],
   "source": [
    "#1. 일반적으로 두 선분이 이루는 각도는 한 바퀴를 360도로 하여 표현합니다.\n",
    "# 따라서 각도에 360의 배수를 더하거나 빼더라도 같은 각을 의미합니다.\n",
    "# 예를 들면, 30도와 390도는 같은 각도입니다.\n",
    "\n",
    "# 주어진 코드는 각도를 나타내는 두 정수 algle1과 angle2가 주어질 때, \n",
    "# 이 두 각의 합을 0도 이상 360도 미만으로 출력하는 코드. 코드가 올바르게 작동하도록 한 줄 수정.\n",
    "\n",
    "angle1 = int(input())\n",
    "angle2 = int(input())\n",
    "\n",
    "sum_angle = (angle1 + angle2) \n",
    "print(sum_angle)"
   ]
  },
  {
   "cell_type": "code",
   "execution_count": null,
   "id": "906daca7",
   "metadata": {},
   "outputs": [],
   "source": [
    "angle = int(input())\n",
    "angle2 = int(inpiut())\n",
    "\n",
    "sum_angle = (angle1 + angle2) % 360\n",
    "print(sum_angle)"
   ]
  },
  {
   "cell_type": "code",
   "execution_count": null,
   "id": "e6ca2b28",
   "metadata": {},
   "outputs": [],
   "source": [
    "# 3. 2자리 이상의 정수 number가 주어집니다.\n",
    "# 주어진 코드는 이 수를 2자리씩 자른 뒤, 자른 수를 모두 더해서 그 합을 출력하는 코드.\n",
    "# 코드가 올바르게 작동하도록 한 줄을 수정.\n",
    "\n",
    "number = int(input())\n",
    "\n",
    "answer = 0\n",
    "\n",
    "for i in range(1):\n",
    "    answer += number % 100\n",
    "    number //= 100\n",
    "\n",
    "print(answer)"
   ]
  },
  {
   "cell_type": "code",
   "execution_count": null,
   "id": "1c78a698",
   "metadata": {},
   "outputs": [
    {
     "name": "stdout",
     "output_type": "stream",
     "text": [
      "163\n"
     ]
    }
   ],
   "source": [
    "# 3-1. 첫 번째 방법\n",
    "number = int(input()) # 사용자로부터 정수를 입력받아 number 변수에 저장.\n",
    "                      # int() 함수는 입력받은 문자열을 정수형으로 변환.\n",
    "\n",
    "answer = 0\n",
    "\n",
    "while number:    # while number 은 number !=0 과 동일. number가 0이 될 때까지 반복.\n",
    "    answer += number % 100\n",
    "    number //= 100\n",
    "\n",
    "print(answer)"
   ]
  },
  {
   "cell_type": "code",
   "execution_count": null,
   "id": "c0d02b97",
   "metadata": {},
   "outputs": [
    {
     "name": "stdout",
     "output_type": "stream",
     "text": [
      "87\n"
     ]
    }
   ],
   "source": [
    "# 3-2. 두 번째 방법\n",
    "number = int(input())  # int() 함수는 입력받은 문자열을 정수형으로 변환.\n",
    "# 왜 정수로 바꿀까? 뒤에서 %(나머지)와 //(몫) 연산을 하는데 이 연산들은 정수에만 적용 가능하기 때문)\n",
    "\n",
    "answer = 0\n",
    " \n",
    "# _ 변수 이름을 쓴 이유: 반복의 인덱스 값(0,1)은 실제로 쓰지 않으니 _로 표기해 \"값 필요없음\"을 나타냄.\n",
    "for _ in range(len(str(number)) // 2) :   # str: number을 문자열로 변환. len: 문자열 길이 반환. //: 몫 연산자\n",
    "    answer += number % 100               # %: 나머지 연산자\n",
    "    number //= 100                       # //: 몫 연산자. ex) 4859 // 100 = 48. \n",
    "                                         # 정수 나눗셈으로 마지막 두 자리 (이미 더한 것)을 제거.\n",
    "print(answer)"
   ]
  },
  {
   "cell_type": "code",
   "execution_count": null,
   "id": "6a7f38be",
   "metadata": {},
   "outputs": [],
   "source": [
    "# 3-3. 세 번째 방법\n",
    "\n",
    "s = input().strip()\n",
    "answer = 0\n",
    "for i in range(0, len(s), 2):   # 0, 2, 4, ... (2칸씩 이동)\n",
    "    answer += int(s[i:i+2])     # 예: s[0:2] = \"48\", s[2:4] = \"59\"\n",
    "print(answer)"
   ]
  },
  {
   "cell_type": "code",
   "execution_count": null,
   "id": "0a0da744",
   "metadata": {},
   "outputs": [],
   "source": [
    "# 4. 퓨쳐 종합 병원에서는 접수한 환자가 진료 받을 병과에 따라 자동으로 환자 코드를 부여해 주는\n",
    "# 프로그램이 있습니다. 환자 코드의 마지막 네 글자를 보면 환자가 어디 병과에서 진료를 받아야 할지 \n",
    "# 알 수 있습니다. 예를 들어 환자의 코드가 \"_eye\"로 끝난다면 안과를, \"head\"로 끝난다면 신경외과\n",
    "# 진료를 보게 됩니다. 환자 코드의 마지막 글자에 따른 병과 분류 기준은 다음과 같습니다.\n",
    "\n",
    "#마지막 글자\t병과\n",
    "# \"_eye\"\t\"Ophthalmologyc\"\n",
    "# \"head\"\t\"Neurosurgery\"\n",
    "# \"infl\"\t\"Orthopedics\"\n",
    "# \"skin\"\t\"Dermatology\"\n",
    "# 환자의 코드를 나타내는 문자열 code를 입력받아 위 표에 맞는 병과를 출력하도록 빈칸을 채워 \n",
    "# 코드를 완성해 주세요. 위 표의 단어로 끝나지 않는다면 \"direct recommendation\"를 출력합니다.\n"
   ]
  },
  {
   "cell_type": "code",
   "execution_count": null,
   "id": "460fde5c",
   "metadata": {},
   "outputs": [],
   "source": [
    "# 5. 심폐소생술은 다음과 같은 순서를 통해 실시합니다. \n",
    "#   1) 심정지 및 무호흡 확인 [check]\n",
    "#   2) 도움 및 119 신고 요청 [call]\n",
    "#   3) 가슴압박 30회 시행 [pressure]\n",
    "#   4) 인공호흡 2회 시행 [respiration]\n",
    "#   5) 가슴 압박, 인공호흡 반복 [repeat]\n",
    "\n",
    "# 주어진 solution 함수는 심폐소생술을 하는 방법의 순서가 담긴 문자열들이 무작위 순서로 담긴 리스트\n",
    "# cpr이 주어질 때 각각의 방법이 몇 번째 단계인지 순서대로 담아 return하는 함수입니다.\n",
    "#  solution 함수가 올바르게 작동하도록 빈칸을 채워 solution 함수를 완성해 주세요.\n",
    "\n",
    "def solution(cpr):\n",
    "    answer = []\n",
    "    \n"
   ]
  },
  {
   "cell_type": "code",
   "execution_count": null,
   "id": "6a56c297",
   "metadata": {},
   "outputs": [],
   "source": []
  }
 ],
 "metadata": {
  "kernelspec": {
   "display_name": "Python 3",
   "language": "python",
   "name": "python3"
  },
  "language_info": {
   "codemirror_mode": {
    "name": "ipython",
    "version": 3
   },
   "file_extension": ".py",
   "mimetype": "text/x-python",
   "name": "python",
   "nbconvert_exporter": "python",
   "pygments_lexer": "ipython3",
   "version": "3.13.7"
  }
 },
 "nbformat": 4,
 "nbformat_minor": 5
}
