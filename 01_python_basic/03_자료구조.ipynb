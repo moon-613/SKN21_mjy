{
 "cells": [
  {
   "cell_type": "markdown",
   "id": "da193321",
   "metadata": {
    "slideshow": {
     "slide_type": "slide"
    }
   },
   "source": [
    "# 자료구조란\n",
    "\n",
    "-   **여러 개의 값들을 모아서 관리**하는 데이터 타입.\n",
    "    -   한 개의 변수는 한 개의 값 밖에는 가지지 못한다. 그러나 하나의 변수로 여러 개의 값 관리해야 할 경우가 있다.\n",
    "    -   하나의 값이 여러개의 값들로 구성된 경우\n",
    "        -   한명의 고객 정보의 경우 이름, 나이, 주소, 전화번호 등 여러개의 값이 모여서 하나의 값이 된다.\n",
    "        -   한 반의 학생들의 이름들은 여러개의 이름들로 구성된다.\n",
    "-   파이썬은 데이터를 모으는 방식에 따라 다음과 같이 4개의 타입을 제공한다.\n",
    "    -   **List:** 순서가 있으며 중복된 값들을 모으는 것을 허용하고 구성하는 값들(원소)을 변경할 수 있다.\n",
    "    -   **Tuple:** 순서가 있으며 중복된 값들을 모으는 것을 허용하는데 구성하는 값들을 변경할 수 없다.\n",
    "    -   **Dictionary:** key-value 형태로 값들을 저장해 관리한다.\n",
    "    -   **Set:** 중복을 허용하지 않고 값들의 순서가 없다.\n",
    "-   **원소, 성분, 요소, element**\n",
    "    -   자료구조의 값들을 구성하는 개별 값들을 말한다.\n",
    "    -   len(자료구조) 함수\n",
    "        -   자료구조 내의 원소의 개수를 반환한다.\n"
   ]
  },
  {
   "cell_type": "markdown",
   "id": "84431cfd",
   "metadata": {
    "slideshow": {
     "slide_type": "slide"
    }
   },
   "source": [
    "# List (리스트)\n",
    "\n",
    "-   값들을 순서대로 모아서 관리하는 자료구조. 원소(element)들을 순번을 이용해 식별한다.\n",
    "    -   각각의 원소가 어떤 값인지를 index(순번)을 가지고 식별하기 때문에 **순서가 있고 그 순서가 매우 중요하다.** 즉 같은 값에 대해 순서가 바뀌면 안된다.\n",
    "-   각각의 원소들은 index를 이용해 식별한다.\n",
    "    -   index는 문자열과 마찮가지로 양수 index와 음수 index 두개가 각 값에 생긴다.\n",
    "    -   양수 index는 앞에서부터 음수 index는 뒤에서 부터 값을 식별할 때 사용하는 것이 편리하다.\n",
    "    -   **index를 가지고 각 원소값의 의미를 식별할 수 있으면 List나 Tuple을 사용한다.**\n",
    "-   중복된 값들을 저장할 수 있다.\n",
    "-   각 원소들의 데이터 타입은 달라도 상관없다.\n",
    "    -   보통은 같은 타입의 데이터를 모은다.\n",
    "-   리스트를 구성하는 **원소들을 변경할 수 있다.** (추가, 삭제, 변경이 가능)\n",
    "    -   원소 변경 여부가 List와 Tuple의 차이이다.\n",
    "\n",
    "## List 생성 구문\n",
    "\n",
    "```python\n",
    "[값, 값, 값, ..]\n",
    "```\n"
   ]
  },
  {
   "cell_type": "code",
   "execution_count": 43,
   "id": "6eef6bd9",
   "metadata": {},
   "outputs": [],
   "source": [
    "l = [ 1, 10, 100, 1000 ]"
   ]
  },
  {
   "cell_type": "code",
   "execution_count": 44,
   "id": "619367b8",
   "metadata": {},
   "outputs": [
    {
     "data": {
      "text/plain": [
       "7"
      ]
     },
     "execution_count": 44,
     "metadata": {},
     "output_type": "execute_result"
    }
   ],
   "source": [
    "l2 = [\"홍길동\", 20, \"서울\", 182.2, True, False, [\"독서\", \"음악감상\"]]  # 서로 다른 타입도 넣을 수 있음.\n",
    "len(l2)"
   ]
  },
  {
   "cell_type": "markdown",
   "id": "08d634bf",
   "metadata": {
    "slideshow": {
     "slide_type": "subslide"
    }
   },
   "source": [
    "## Indexing과 Slicing을 이용한 원소(element) 조회 및 변경\n",
    "\n",
    "### Indexing\n",
    "\n",
    "-   하나의 원소를 조회하거나 변경할 때 사용\n",
    "-   리스트\\[index\\]\n",
    "    -   index의 원소를 조회\n",
    "-   리스트\\[index\\] = 값\n",
    "    -   index의 원소를 변경\n"
   ]
  },
  {
   "cell_type": "markdown",
   "id": "ab5a40cb",
   "metadata": {
    "slideshow": {
     "slide_type": "fragment"
    }
   },
   "source": [
    "### Slicing\n",
    "\n",
    "-   범위로 조회하거나 그 범위의 값들을 변경한다.\n",
    "-   기본구문: **리스트\\[ 시작 index : 종료 index : 간격\\]**\n",
    "    -   시작 index ~ (종료 index – 1)\n",
    "    -   간격을 지정하면 간격만큼 index를 증/감한다. (생략 시 1이 기본 간격)\n",
    "-   **0번 index 부터 조회 할 경우 시작 index는 생략가능**\n",
    "    -   리스트 \\[ : 5\\] => 0 ~ 4 까지 조회\n",
    "-   **마지막 index까지 (끝까지) 조회 할 경우 종료 index는 생략 가능**\n",
    "    -   리스트\\[2 : \\] => 2번 index 에서 끝까지\n",
    "-   **명시적으로 간격을 줄 경우**\n",
    "    -   리스트\\[ : : 3 \\] => 0, 3, 6, 9.. index의 값 조회\n",
    "    -   리스트\\[1 : 9 : 2\\] => 1, 3, 5, 7 index의 값 조회\n",
    "-   **시작 index > 종료 index, 간격을 음수로 하면 역으로 반환한다.(Reverse)**\n",
    "    -   리스트\\[5: 1: -1\\] => 5, 4, 3, 2 index의 값 조회\n",
    "    -   리스트\\[: : -1\\] => 마지막 index ~ 0번 index 까지 의미. Reverse 한다.\n",
    "\n",
    "#### slicing을 이용한 값 변경\n",
    "\n",
    "-   slicing 을 이용할 경우 slicing된 원소 개수와 동일한 개수의 값들을 대입한다.\n",
    "    -   `리스트[1:5] = 10,20,30,40` : index 1, 2, 3, 4의 값을 각각 10, 20, 30, 40 으로 변경\n"
   ]
  },
  {
   "cell_type": "code",
   "execution_count": 45,
   "id": "a758ab6d",
   "metadata": {},
   "outputs": [
    {
     "data": {
      "text/plain": [
       "1"
      ]
     },
     "execution_count": 45,
     "metadata": {},
     "output_type": "execute_result"
    }
   ],
   "source": [
    "# indexing\n",
    " \n",
    "l[0]"
   ]
  },
  {
   "cell_type": "code",
   "execution_count": 46,
   "id": "5d462776",
   "metadata": {
    "slideshow": {
     "slide_type": "fragment"
    }
   },
   "outputs": [
    {
     "data": {
      "text/plain": [
       "[500, 10, 100, 1000]"
      ]
     },
     "execution_count": 46,
     "metadata": {},
     "output_type": "execute_result"
    }
   ],
   "source": [
    "# 변경\n",
    "l[0] = 500\n",
    "l"
   ]
  },
  {
   "cell_type": "code",
   "execution_count": 47,
   "id": "daa0daa5",
   "metadata": {},
   "outputs": [
    {
     "data": {
      "text/plain": [
       "[80, 90, 100]"
      ]
     },
     "execution_count": 47,
     "metadata": {},
     "output_type": "execute_result"
    }
   ],
   "source": [
    "l3 = [10, 20, 30, 40, 50, 60, 70, 80, 90, 100]\n",
    "\n",
    "#slicing\n",
    "l3[3:7] # 3 ~ 7-1\n",
    "l3[:7] # 시작 생략\n",
    "l3[7:] # 끝 생략: 끝까지"
   ]
  },
  {
   "cell_type": "code",
   "execution_count": 48,
   "id": "ab99d0e7",
   "metadata": {},
   "outputs": [
    {
     "data": {
      "text/plain": [
       "[10, 40, 70, 100]"
      ]
     },
     "execution_count": 48,
     "metadata": {},
     "output_type": "execute_result"
    }
   ],
   "source": [
    "l3[::3]"
   ]
  },
  {
   "cell_type": "code",
   "execution_count": 49,
   "id": "fbf03b98",
   "metadata": {},
   "outputs": [
    {
     "data": {
      "text/plain": [
       "[100, 90, 80, 70, 60, 50, 40, 30, 20, 10]"
      ]
     },
     "execution_count": 49,
     "metadata": {},
     "output_type": "execute_result"
    }
   ],
   "source": [
    "l3[::-1]"
   ]
  },
  {
   "cell_type": "code",
   "execution_count": 50,
   "id": "bc588de5",
   "metadata": {},
   "outputs": [
    {
     "data": {
      "text/plain": [
       "[1000, 2000, 3000, 40, 50, 60, 70, 80, 90, 100]"
      ]
     },
     "execution_count": 50,
     "metadata": {},
     "output_type": "execute_result"
    }
   ],
   "source": [
    "l3[:3] = 1000, 2000, 3000\n",
    "l3"
   ]
  },
  {
   "cell_type": "markdown",
   "id": "a4f9fe12",
   "metadata": {
    "slideshow": {
     "slide_type": "slide"
    }
   },
   "source": [
    "## List 연산자\n",
    "\n",
    "-   **리스트 + 리스트**\n",
    "    -   두 리스트의 원소들을 합친 리스트를 반환한다.\n",
    "-   **리스트 \\* 정수**\n",
    "    -   같은 리스트의 원소들을 정수번 합친 리스트를 반환한다.\n",
    "-   **in, not in 연산자**\n",
    "    -   값 in 리스트\n",
    "        -   리스트의 원소로 값이 **있으면** True, 없으면 False 반환\n",
    "    -   값 not in 리스트\n",
    "        -   리스트의 원소로 값이 **없으면** True, 있으면 False 반환\n",
    "-   **len(리스트)**\n",
    "    -   리스트 내의 원소수를 반환.\n"
   ]
  },
  {
   "cell_type": "code",
   "execution_count": 51,
   "id": "db069ee7",
   "metadata": {},
   "outputs": [],
   "source": [
    "a = [10, 20, 30]\n",
    "b = [\"가\", \"나\", \"다\", \"라\"]"
   ]
  },
  {
   "cell_type": "code",
   "execution_count": 52,
   "id": "f085e817",
   "metadata": {
    "ExecuteTime": {
     "end_time": "2022-12-17T14:17:03.293505Z",
     "start_time": "2022-12-17T14:17:03.285501Z"
    },
    "slideshow": {
     "slide_type": "fragment"
    }
   },
   "outputs": [
    {
     "data": {
      "text/plain": [
       "[10, 20, 30, '가', '나', '다', '라']"
      ]
     },
     "execution_count": 52,
     "metadata": {},
     "output_type": "execute_result"
    }
   ],
   "source": [
    "c = a + b\n",
    "c"
   ]
  },
  {
   "cell_type": "code",
   "execution_count": 53,
   "id": "4e702041",
   "metadata": {},
   "outputs": [
    {
     "data": {
      "text/plain": [
       "7"
      ]
     },
     "execution_count": 53,
     "metadata": {},
     "output_type": "execute_result"
    }
   ],
   "source": [
    "len(c)"
   ]
  },
  {
   "cell_type": "code",
   "execution_count": 54,
   "id": "a38d574b",
   "metadata": {},
   "outputs": [
    {
     "data": {
      "text/plain": [
       "[10, 20, 30, 10, 20, 30, 10, 20, 30]"
      ]
     },
     "execution_count": 54,
     "metadata": {},
     "output_type": "execute_result"
    }
   ],
   "source": [
    "d = a * 3  # a + a + a\n",
    "d"
   ]
  },
  {
   "cell_type": "code",
   "execution_count": 55,
   "id": "6606b363",
   "metadata": {},
   "outputs": [
    {
     "data": {
      "text/plain": [
       "True"
      ]
     },
     "execution_count": 55,
     "metadata": {},
     "output_type": "execute_result"
    }
   ],
   "source": [
    "20 in d  # d가 20을 가지고 있는지 여부"
   ]
  },
  {
   "cell_type": "code",
   "execution_count": 56,
   "id": "568f647d",
   "metadata": {},
   "outputs": [
    {
     "data": {
      "text/plain": [
       "False"
      ]
     },
     "execution_count": 56,
     "metadata": {},
     "output_type": "execute_result"
    }
   ],
   "source": [
    "1000 in d"
   ]
  },
  {
   "cell_type": "code",
   "execution_count": 57,
   "id": "8a0a77ce",
   "metadata": {},
   "outputs": [
    {
     "data": {
      "text/plain": [
       "False"
      ]
     },
     "execution_count": 57,
     "metadata": {},
     "output_type": "execute_result"
    }
   ],
   "source": [
    "20 not in d"
   ]
  },
  {
   "cell_type": "markdown",
   "id": "f90af754",
   "metadata": {
    "slideshow": {
     "slide_type": "slide"
    }
   },
   "source": [
    "## 중첩 리스트 (Nested List)\n",
    "\n",
    "-   List가 원소로 List를 가지는 것을 말한다.\n",
    "    -   List를 포함한 모든 자료구조 타입들도 다 값이므로 다른 자료구조의 원소로 들어갈 수 있다.\n"
   ]
  },
  {
   "cell_type": "code",
   "execution_count": 58,
   "id": "4f52b717",
   "metadata": {},
   "outputs": [
    {
     "data": {
      "text/plain": [
       "2"
      ]
     },
     "execution_count": 58,
     "metadata": {},
     "output_type": "execute_result"
    }
   ],
   "source": [
    "l5 = [[1,2,3], [4,5,6]]\n",
    "len(l5)"
   ]
  },
  {
   "cell_type": "code",
   "execution_count": 59,
   "id": "01bede57",
   "metadata": {
    "slideshow": {
     "slide_type": "fragment"
    }
   },
   "outputs": [
    {
     "data": {
      "text/plain": [
       "[1, 2, 3]"
      ]
     },
     "execution_count": 59,
     "metadata": {},
     "output_type": "execute_result"
    }
   ],
   "source": [
    "l5[0]"
   ]
  },
  {
   "cell_type": "code",
   "execution_count": 60,
   "id": "2dfd6c46",
   "metadata": {
    "slideshow": {
     "slide_type": "fragment"
    }
   },
   "outputs": [
    {
     "data": {
      "text/plain": [
       "1"
      ]
     },
     "execution_count": 60,
     "metadata": {},
     "output_type": "execute_result"
    }
   ],
   "source": [
    "l5 [0][0]"
   ]
  },
  {
   "cell_type": "markdown",
   "id": "826b8780",
   "metadata": {
    "slideshow": {
     "slide_type": "slide"
    }
   },
   "source": [
    "## List 주요 메소드\n",
    "\n",
    "| 메소드                       | 설명                                                                                 |\n",
    "| :--------------------------- | ------------------------------------------------------------------------------------ |\n",
    "| append(value)                | value를 추가한다.                                                                    |\n",
    "| extend(List)                 | List의 원소들을 추가한다.                                                            |\n",
    "| sort(\\[reverse=False\\])      | 원소들을 오름차순 정렬한다. reverse=True로 하면 내림차순정렬 한다.                   |\n",
    "| insert(index, 삽입할값)      | 지정한 index에 '삽입할값'을 삽입한다.                                                |\n",
    "| remove(삭제할값)             | '삭제할값' 값과 같은 원소를 삭제한다.                                                |\n",
    "| index(찾을값\\[, 시작index\\]) | '찾을값'의 index를 반환한다.                                                         |\n",
    "| pop(\\[index\\])               | index의 값을 반환하면서 삭제한다. index 생략하면 가장 마지막 값을 반환하며 삭제한다. |\n",
    "| count(값)                    | '값'이 리스트의 원소로 몇개 있는지 반환한다.                                         |\n",
    "| clear()                      | 리스트 안의 모든 원소들을 삭제한다.                                                  |\n"
   ]
  },
  {
   "cell_type": "code",
   "execution_count": 61,
   "id": "041be1da",
   "metadata": {},
   "outputs": [
    {
     "data": {
      "text/plain": [
       "[500, 10, 100, 1000, 2000]"
      ]
     },
     "execution_count": 61,
     "metadata": {},
     "output_type": "execute_result"
    }
   ],
   "source": [
    "l. append(2000)  # 리스트 l에 2000을 추가\n",
    "l"
   ]
  },
  {
   "cell_type": "code",
   "execution_count": 62,
   "id": "4b14d8e8",
   "metadata": {
    "slideshow": {
     "slide_type": "fragment"
    }
   },
   "outputs": [],
   "source": [
    "l.extend([1, 2, 3, 4, 5])  # 리스트 l에 넣어 준 리스트가 가진 원소들을 추가."
   ]
  },
  {
   "cell_type": "code",
   "execution_count": 63,
   "id": "d4fd191b",
   "metadata": {},
   "outputs": [
    {
     "data": {
      "text/plain": [
       "['가', 500, 10, 100, 1000, 2000, 1, 2, 3, 4, 5]"
      ]
     },
     "execution_count": 63,
     "metadata": {},
     "output_type": "execute_result"
    }
   ],
   "source": [
    "l.insert(0, \"가\")  # 리스트에 삽입할 값 추가.\n",
    "l"
   ]
  },
  {
   "cell_type": "code",
   "execution_count": 64,
   "id": "f6ae8262",
   "metadata": {},
   "outputs": [
    {
     "data": {
      "text/plain": [
       "['가', 500, 100, 1000, 2000, 1, 2, 3, 4, 5]"
      ]
     },
     "execution_count": 64,
     "metadata": {},
     "output_type": "execute_result"
    }
   ],
   "source": [
    "#삭제\n",
    "##값으로 삭제\n",
    "l.remove(10)\n",
    "l"
   ]
  },
  {
   "cell_type": "code",
   "execution_count": null,
   "id": "0f8c8c2f",
   "metadata": {},
   "outputs": [
    {
     "data": {
      "text/plain": [
       "1000"
      ]
     },
     "execution_count": 66,
     "metadata": {},
     "output_type": "execute_result"
    }
   ],
   "source": [
    "#index로 삭제\n",
    "l.pop()  # 마지막 index의 값을 삭제하면서 반환.\n",
    "l.pop(3)"
   ]
  },
  {
   "cell_type": "code",
   "execution_count": 67,
   "id": "eb756afe",
   "metadata": {},
   "outputs": [
    {
     "data": {
      "text/plain": [
       "<function list.clear()>"
      ]
     },
     "execution_count": 67,
     "metadata": {},
     "output_type": "execute_result"
    }
   ],
   "source": [
    "l.clear #안에 있는 원소들 싹 지운다."
   ]
  },
  {
   "cell_type": "code",
   "execution_count": 70,
   "id": "54eff377",
   "metadata": {},
   "outputs": [],
   "source": [
    "l = [4, -20, 1, 100, -50, 72]\n",
    "# 정렬: 오름차순, 내림차순\n",
    "l.sort() # 오름차순. 기본이 False"
   ]
  },
  {
   "cell_type": "code",
   "execution_count": 73,
   "id": "c6612e0f",
   "metadata": {},
   "outputs": [
    {
     "data": {
      "text/plain": [
       "[100, 72, 4, 1, -20, -50]"
      ]
     },
     "execution_count": 73,
     "metadata": {},
     "output_type": "execute_result"
    }
   ],
   "source": [
    "l.sort(reverse=True)  # 내림차순\n",
    "l"
   ]
  },
  {
   "cell_type": "markdown",
   "id": "5b28f033",
   "metadata": {
    "slideshow": {
     "slide_type": "slide"
    }
   },
   "source": [
    "# Tuple (튜플)\n",
    "\n",
    "-   List와 같이 순서대로 원소들을 관리한다. 단 저장된 원소를 변경할 수 없다.\n",
    "-   Tuple 은 각 위치(Index) 마다 정해진 의미가 있고 그 값이 한번 설정되면 바뀌지 않는 경우에 사용한다.\n",
    "    -   Tuple은 값의 변경되지 않으므로 안전하다.\n",
    "\n",
    "## Tuple 생성\n",
    "\n",
    "-   `(value, value, value, ...)`\n",
    "-   소괄호를 생략할 수 있다.\n",
    "-   원소가 하나인 Tuple 표현식\n",
    "    -   `(value,)` 또는 `value,`\n",
    "        -   값 뒤에 `,` 를 붙여준다. `,`를 붙이지 않으면 ( )가 연산자 우선순위 괄호가 된다.\n"
   ]
  },
  {
   "cell_type": "code",
   "execution_count": 75,
   "id": "f7f96391",
   "metadata": {},
   "outputs": [
    {
     "data": {
      "text/plain": [
       "tuple"
      ]
     },
     "execution_count": 75,
     "metadata": {},
     "output_type": "execute_result"
    }
   ],
   "source": [
    "t1 = (1, 2, 3, 4, 5)\n",
    "type(t1)"
   ]
  },
  {
   "cell_type": "code",
   "execution_count": 76,
   "id": "17099a9e",
   "metadata": {
    "slideshow": {
     "slide_type": "fragment"
    }
   },
   "outputs": [
    {
     "data": {
      "text/plain": [
       "('가', 100, 20.2, True)"
      ]
     },
     "execution_count": 76,
     "metadata": {},
     "output_type": "execute_result"
    }
   ],
   "source": [
    "t2 = (\"가\", 100, 20.2, True)\n",
    "t2"
   ]
  },
  {
   "cell_type": "code",
   "execution_count": 77,
   "id": "90211cf3",
   "metadata": {},
   "outputs": [
    {
     "data": {
      "text/plain": [
       "tuple"
      ]
     },
     "execution_count": 77,
     "metadata": {},
     "output_type": "execute_result"
    }
   ],
   "source": [
    "t3 = 100, 200, 300, 400, \"나\"\n",
    "type(t3)"
   ]
  },
  {
   "cell_type": "code",
   "execution_count": 78,
   "id": "e5dff49b",
   "metadata": {},
   "outputs": [
    {
     "data": {
      "text/plain": [
       "(100, 200, 300, 400, '나')"
      ]
     },
     "execution_count": 78,
     "metadata": {},
     "output_type": "execute_result"
    }
   ],
   "source": [
    "t3"
   ]
  },
  {
   "cell_type": "code",
   "execution_count": 80,
   "id": "456fc557",
   "metadata": {},
   "outputs": [],
   "source": [
    "a, b, c = 10, 20, 30  # tuple 대입. 원래 10, 20, 30을 괄호로 묶어야 함."
   ]
  },
  {
   "cell_type": "code",
   "execution_count": 81,
   "id": "f369b9ef",
   "metadata": {},
   "outputs": [
    {
     "name": "stdout",
     "output_type": "stream",
     "text": [
      "10 20 30\n"
     ]
    }
   ],
   "source": [
    "a, b, c = [10, 20, 30]  # 리스트 대입\n",
    "print(a, b, c)"
   ]
  },
  {
   "cell_type": "code",
   "execution_count": 84,
   "id": "ed69701a",
   "metadata": {},
   "outputs": [
    {
     "data": {
      "text/plain": [
       "tuple"
      ]
     },
     "execution_count": 84,
     "metadata": {},
     "output_type": "execute_result"
    }
   ],
   "source": [
    "t4 = (100)  # 원소가 하나만 있으면 튜플이 아니라 int로 봄\n",
    "type(t4)\n",
    "\n",
    "t41 = (100,)  #튜플\n",
    "type(t41)"
   ]
  },
  {
   "cell_type": "code",
   "execution_count": 85,
   "id": "ece707ac",
   "metadata": {},
   "outputs": [
    {
     "data": {
      "text/plain": [
       "(tuple, 1)"
      ]
     },
     "execution_count": 85,
     "metadata": {},
     "output_type": "execute_result"
    }
   ],
   "source": [
    "t5 = 100, \n",
    "type(t5), len(t5)"
   ]
  },
  {
   "cell_type": "markdown",
   "id": "16954356",
   "metadata": {
    "slideshow": {
     "slide_type": "slide"
    }
   },
   "source": [
    "## Indexing과 Slicing을 이용한 원소(element) 조회\n",
    "\n",
    "-   리스트와 동일하다.\n",
    "-   단 튜플은 조회만 가능하고 원소를 변경할 수 없다.\n"
   ]
  },
  {
   "cell_type": "code",
   "execution_count": 87,
   "id": "6c5b9b2c",
   "metadata": {
    "slideshow": {
     "slide_type": "fragment"
    }
   },
   "outputs": [
    {
     "data": {
      "text/plain": [
       "(5, 4, 3, 2, 1)"
      ]
     },
     "execution_count": 87,
     "metadata": {},
     "output_type": "execute_result"
    }
   ],
   "source": [
    "t1[1:4]\n",
    "t1[:4]\n",
    "t1[3:]\n",
    "t1[::2]\n",
    "a = t1[::-1]\n",
    "a"
   ]
  },
  {
   "cell_type": "code",
   "execution_count": 88,
   "id": "0fef5c22",
   "metadata": {},
   "outputs": [
    {
     "data": {
      "text/plain": [
       "(1, 2, 3, 4, 5)"
      ]
     },
     "execution_count": 88,
     "metadata": {},
     "output_type": "execute_result"
    }
   ],
   "source": [
    "t1"
   ]
  },
  {
   "cell_type": "markdown",
   "id": "135101f3",
   "metadata": {
    "slideshow": {
     "slide_type": "slide"
    }
   },
   "source": [
    "## Tuple 연산자\n",
    "\n",
    "-   **tuple + tuple**\n",
    "    -   두 tuple의 원소들을 합친 tuple을 반환한다.\n",
    "-   **tuple \\* 정수**\n",
    "    -   같은 tuple의 원소들을 정수번 합친 tuple를 반환한다.\n",
    "-   **in, not in 연산자**\n",
    "    -   값 in tuple\n",
    "        -   tuple의 원소로 값이 **있으면** True, 없으면 False 반환\n",
    "    -   값 not in tuple\n",
    "        -   tuple의 원소로 값이 **없으면** True, 있으면 False 반환\n",
    "-   **len(tuple)**\n",
    "    -   tuple의 원소 개수 반환\n"
   ]
  },
  {
   "cell_type": "code",
   "execution_count": 91,
   "id": "c39c878c",
   "metadata": {},
   "outputs": [
    {
     "data": {
      "text/plain": [
       "(1, 2, 3, 4, 5, '가', 100, 20.2, True)"
      ]
     },
     "execution_count": 91,
     "metadata": {},
     "output_type": "execute_result"
    }
   ],
   "source": [
    "t3 = t1 + t2\n",
    "t3"
   ]
  },
  {
   "cell_type": "markdown",
   "id": "89803fdd",
   "metadata": {
    "slideshow": {
     "slide_type": "subslide"
    }
   },
   "source": [
    "## Tuple의 주요 메소드\n",
    "\n",
    "| 메소드                        | 설명                                |\n",
    "| :---------------------------- | ----------------------------------- |\n",
    "| index(찾을값 \\[, 시작index\\]) | '찾을값'이 몇번 index인지 반환한다. |\n",
    "| count(값)                     | 원소로 '값'이 몇개 있는지 반환한다. |\n"
   ]
  },
  {
   "cell_type": "code",
   "execution_count": null,
   "id": "e8e4d78e",
   "metadata": {},
   "outputs": [
    {
     "data": {
      "text/plain": [
       "2"
      ]
     },
     "execution_count": 92,
     "metadata": {},
     "output_type": "execute_result"
    }
   ],
   "source": [
    "t6 = (1, 2, 3, 1, 2, 3, 1, 1, 1, 3)\n",
    "t6.index(3)  # 가장 앞에 있는 값 3의 위치(index)를 조회"
   ]
  },
  {
   "cell_type": "code",
   "execution_count": null,
   "id": "93a527af",
   "metadata": {
    "slideshow": {
     "slide_type": "fragment"
    }
   },
   "outputs": [
    {
     "data": {
      "text/plain": [
       "5"
      ]
     },
     "execution_count": 93,
     "metadata": {},
     "output_type": "execute_result"
    }
   ],
   "source": [
    "t6.index(3, 4)  # 3의 index를 찾는데 4 index부터 찾기 시작."
   ]
  },
  {
   "cell_type": "code",
   "execution_count": null,
   "id": "f70bb30f",
   "metadata": {},
   "outputs": [
    {
     "data": {
      "text/plain": [
       "0"
      ]
     },
     "execution_count": 95,
     "metadata": {},
     "output_type": "execute_result"
    }
   ],
   "source": [
    "t6.count(3)  # 값 3이 몇 개 있는지 조회\n",
    "t6.count(1)  # 결과: 5\n",
    "t6.count(\"a\")"
   ]
  },
  {
   "cell_type": "markdown",
   "id": "e6c196f5",
   "metadata": {
    "slideshow": {
     "slide_type": "slide"
    }
   },
   "source": [
    "# Dictionary\n",
    "\n",
    "-   값을 키(key)-값(value) 쌍으로 묶어서 저장하는 자료구조이다.\n",
    "    -   리스트나 튜플의 index의 역할을 하는 key를 직접 지정한다.\n",
    "    -   서로 의미가 다른 값들을 하나로 묶을 때 그 값의 의미를 key로 가질 수 있는 dictionary를 사용한다.\n",
    "        -   cf) 값의 의미가 같을 경우 List나 Tuple을 사용한다.\n",
    "    -   key-value 쌍으로 묶은 데이터 한개를 **item 또는 entry**라고 한다.\n",
    "    -   key는 중복을 허용하지 않고 value는 중복을 허용한다.\n",
    "\n",
    "## Dictionary 생성\n",
    "\n",
    "-   구문\n",
    "    1. `{ 키 : 값, 키 : 값, 키 : 값 }`\n",
    "    2. dict(key=value, key=value) 함수 이용\n",
    "    -   키(key)는 불변(Immutable)의 값들만 사용 가능하다. (숫자, 문자열, 튜플) 일반적으로 문자열을 사용한다.\n",
    "    -   dict() 함수를 사용할 경우 key는 변수로 정의한다\n"
   ]
  },
  {
   "cell_type": "code",
   "execution_count": 96,
   "id": "18611386",
   "metadata": {},
   "outputs": [
    {
     "data": {
      "text/plain": [
       "{'이름': '홍길동', '나이': 20, '주소': '서울'}"
      ]
     },
     "execution_count": 96,
     "metadata": {},
     "output_type": "execute_result"
    }
   ],
   "source": [
    "d1 = {\"이름\":\"홍길동\", \"나이\":20, \"주소\":\"서울\"}\n",
    "d1"
   ]
  },
  {
   "cell_type": "code",
   "execution_count": 97,
   "id": "d9d37f28",
   "metadata": {
    "slideshow": {
     "slide_type": "fragment"
    }
   },
   "outputs": [
    {
     "data": {
      "text/plain": [
       "{'이름': '이순신', '키': 190, '나이': 20}"
      ]
     },
     "execution_count": 97,
     "metadata": {},
     "output_type": "execute_result"
    }
   ],
   "source": [
    "d2 = dict(이름=\"이순신\", 키=190, 나이=20)\n",
    "d2"
   ]
  },
  {
   "cell_type": "code",
   "execution_count": 100,
   "id": "603c99e0",
   "metadata": {},
   "outputs": [
    {
     "data": {
      "text/plain": [
       "{'이름': '홍길동', '나이': 20, '주소': '서울', '취미': ['게임', '독서']}"
      ]
     },
     "execution_count": 100,
     "metadata": {},
     "output_type": "execute_result"
    }
   ],
   "source": [
    "d3 = {\n",
    "    \"이름\":\"홍길동\",\n",
    "    \"나이\":20,\n",
    "    \"주소\":\"서울\", \n",
    "    \"취미\":[\"게임\", \"독서\"]\n",
    "}\n",
    "d3"
   ]
  },
  {
   "cell_type": "code",
   "execution_count": 101,
   "id": "45ce2893",
   "metadata": {},
   "outputs": [
    {
     "data": {
      "text/plain": [
       "'유관순'"
      ]
     },
     "execution_count": 101,
     "metadata": {},
     "output_type": "execute_result"
    }
   ],
   "source": [
    "l = [\"이순신\", \"홍길동\", \"유관순\"]\n",
    "l[2]"
   ]
  },
  {
   "cell_type": "markdown",
   "id": "f8c87bd3",
   "metadata": {
    "slideshow": {
     "slide_type": "subslide"
    }
   },
   "source": [
    "## Dictionary 원소 조회 및 변경\n",
    "\n",
    "-   조회: index에 key값을 식별자로 지정한다.\n",
    "    -   dictionary\\[ key \\]\n",
    "    -   없는 키로 조회 시 KeyError 발생\n",
    "-   변경\n",
    "    -   dictionary\\[ key \\] = 값\n",
    "    -   있는 key값에 값을 대입하면 변경이고 없는 key 일 경우는 새로운 item을 추가하는 것이다.\n"
   ]
  },
  {
   "cell_type": "code",
   "execution_count": 102,
   "id": "5c8cec2f",
   "metadata": {},
   "outputs": [
    {
     "data": {
      "text/plain": [
       "('홍길동', 20)"
      ]
     },
     "execution_count": 102,
     "metadata": {},
     "output_type": "execute_result"
    }
   ],
   "source": [
    "d3[\"이름\"], d3[\"나이\"]"
   ]
  },
  {
   "cell_type": "code",
   "execution_count": null,
   "id": "459db630",
   "metadata": {
    "slideshow": {
     "slide_type": "fragment"
    }
   },
   "outputs": [],
   "source": [
    "# 변경: 있는 키에 값을 대입\n",
    "d3[\"나이\"] = 50"
   ]
  },
  {
   "cell_type": "code",
   "execution_count": 104,
   "id": "e0e308fc",
   "metadata": {},
   "outputs": [
    {
     "data": {
      "text/plain": [
       "{'이름': '홍길동', '나이': 50, '주소': '서울', '취미': ['게임', '독서']}"
      ]
     },
     "execution_count": 104,
     "metadata": {},
     "output_type": "execute_result"
    }
   ],
   "source": [
    "d3"
   ]
  },
  {
   "cell_type": "code",
   "execution_count": null,
   "id": "4299d812",
   "metadata": {},
   "outputs": [
    {
     "data": {
      "text/plain": [
       "{'이름': '홍길동', '나이': 50, '주소': '서울', '취미': ['게임', '독서'], '키': 185.9}"
      ]
     },
     "execution_count": 105,
     "metadata": {},
     "output_type": "execute_result"
    }
   ],
   "source": [
    "# 추가: 없는 키에 값을 대입\n",
    "d3['키'] = 185.9\n",
    "d3"
   ]
  },
  {
   "cell_type": "markdown",
   "id": "d5aade1e",
   "metadata": {
    "slideshow": {
     "slide_type": "slide"
    }
   },
   "source": [
    "## Dictionary 연산자\n",
    "\n",
    "-   **in, not in 연산자**\n",
    "    -   값 in dictionary\n",
    "        -   dictionary의 **Key**로 값이 **있으면** True, 없으면 False 반환\n",
    "    -   값 not in dictionary\n",
    "        -   dictionary의 **Key**로 값이 **없으면** True, 있으면 False 반환\n",
    "-   **len(dictionary)**\n",
    "    -   dictionary의 **Item의 개수** 반환\n"
   ]
  },
  {
   "cell_type": "code",
   "execution_count": 106,
   "id": "71449891",
   "metadata": {},
   "outputs": [
    {
     "data": {
      "text/plain": [
       "True"
      ]
     },
     "execution_count": 106,
     "metadata": {},
     "output_type": "execute_result"
    }
   ],
   "source": [
    "\"이름\" in d3   # d3에 \"이름\"이라는 key가 있는지 여부"
   ]
  },
  {
   "cell_type": "code",
   "execution_count": 107,
   "id": "4a7c9061",
   "metadata": {
    "slideshow": {
     "slide_type": "fragment"
    }
   },
   "outputs": [
    {
     "data": {
      "text/plain": [
       "False"
      ]
     },
     "execution_count": 107,
     "metadata": {},
     "output_type": "execute_result"
    }
   ],
   "source": [
    "\"이름\" not in d3 "
   ]
  },
  {
   "cell_type": "code",
   "execution_count": 108,
   "id": "2578aa2c",
   "metadata": {},
   "outputs": [
    {
     "data": {
      "text/plain": [
       "5"
      ]
     },
     "execution_count": 108,
     "metadata": {},
     "output_type": "execute_result"
    }
   ],
   "source": [
    "len(d3)"
   ]
  },
  {
   "cell_type": "markdown",
   "id": "9f620ec1",
   "metadata": {
    "slideshow": {
     "slide_type": "slide"
    }
   },
   "source": [
    "## Dictionary 주요 메소드\n",
    "\n",
    "| 메소드               | 설명                                                                               |\n",
    "| :------------------- | ---------------------------------------------------------------------------------- |\n",
    "| get(key\\[, 기본값\\]) | key의 item의 값을 반환한다. 단 key가 없을 경우 None또는 기본값을 반환한다.         |\n",
    "| pop(key)             | key의 item의 값을 반환하면서 dictionary에서 삭제한다. 없는 key일 경우 KeyError발생 |\n",
    "| clear()              | dictionary의 모든 item들을 삭제한다.                                               |\n",
    "| del dict\\[key\\]      | key의 item을 제거한다.                                                             |\n",
    "| items()              | item의 key, value를 튜플로 묶어 모아 반환한다.                                     |\n",
    "| keys()               | key값들만 모아 반환한다.                                                           |\n",
    "| values()             | value값들만 모아 반환한다.                                                         |\n"
   ]
  },
  {
   "cell_type": "code",
   "execution_count": 111,
   "id": "55f208b6",
   "metadata": {},
   "outputs": [
    {
     "ename": "KeyError",
     "evalue": "'몸무게'",
     "output_type": "error",
     "traceback": [
      "\u001b[31m---------------------------------------------------------------------------\u001b[39m",
      "\u001b[31mKeyError\u001b[39m                                  Traceback (most recent call last)",
      "\u001b[36mCell\u001b[39m\u001b[36m \u001b[39m\u001b[32mIn[111]\u001b[39m\u001b[32m, line 1\u001b[39m\n\u001b[32m----> \u001b[39m\u001b[32m1\u001b[39m \u001b[43md3\u001b[49m\u001b[43m[\u001b[49m\u001b[33;43m\"\u001b[39;49m\u001b[33;43m몸무게\u001b[39;49m\u001b[33;43m\"\u001b[39;49m\u001b[43m]\u001b[49m  \u001b[38;5;66;03m#없는 key로 조회하면 에러 남.\u001b[39;00m\n",
      "\u001b[31mKeyError\u001b[39m: '몸무게'"
     ]
    }
   ],
   "source": [
    "d3[\"몸무게\"]  #없는 key로 조회하면 에러 남."
   ]
  },
  {
   "cell_type": "code",
   "execution_count": 110,
   "id": "350e7ad5",
   "metadata": {
    "slideshow": {
     "slide_type": "fragment"
    }
   },
   "outputs": [
    {
     "data": {
      "text/plain": [
       "'홍길동'"
      ]
     },
     "execution_count": 110,
     "metadata": {},
     "output_type": "execute_result"
    }
   ],
   "source": [
    "d3.get(\"이름\")   # key로 value를 조회"
   ]
  },
  {
   "cell_type": "code",
   "execution_count": 112,
   "id": "8d876c03",
   "metadata": {},
   "outputs": [
    {
     "data": {
      "text/plain": [
       "'없는 key'"
      ]
     },
     "execution_count": 112,
     "metadata": {},
     "output_type": "execute_result"
    }
   ],
   "source": [
    "d3.get(\"몸무게\")   # 없는 key로 조회하면 기본값(None)을 반환.\n",
    "d3.get(\"몸무게\", \"없는 key\")  # (키, 기본값)"
   ]
  },
  {
   "cell_type": "code",
   "execution_count": 113,
   "id": "28b5c5f7",
   "metadata": {},
   "outputs": [],
   "source": [
    "w = d3.get(\"몸무게\", -1)\n",
    "# w == -1"
   ]
  },
  {
   "cell_type": "code",
   "execution_count": 114,
   "id": "217285f5",
   "metadata": {},
   "outputs": [
    {
     "data": {
      "text/plain": [
       "185.9"
      ]
     },
     "execution_count": 114,
     "metadata": {},
     "output_type": "execute_result"
    }
   ],
   "source": [
    "# 삭제\n",
    "d3.pop(\"키\")"
   ]
  },
  {
   "cell_type": "code",
   "execution_count": 115,
   "id": "72b3f4fa",
   "metadata": {},
   "outputs": [
    {
     "data": {
      "text/plain": [
       "{'이름': '홍길동', '나이': 50, '주소': '서울', '취미': ['게임', '독서']}"
      ]
     },
     "execution_count": 115,
     "metadata": {},
     "output_type": "execute_result"
    }
   ],
   "source": [
    "d3"
   ]
  },
  {
   "cell_type": "code",
   "execution_count": 116,
   "id": "f9516ddc",
   "metadata": {},
   "outputs": [
    {
     "data": {
      "text/plain": [
       "dict_keys(['이름', '나이', '주소', '취미'])"
      ]
     },
     "execution_count": 116,
     "metadata": {},
     "output_type": "execute_result"
    }
   ],
   "source": [
    "# 키값들 조회\n",
    "d3.keys()"
   ]
  },
  {
   "cell_type": "code",
   "execution_count": 117,
   "id": "7b0c7d51",
   "metadata": {},
   "outputs": [
    {
     "data": {
      "text/plain": [
       "dict_values(['홍길동', 50, '서울', ['게임', '독서']])"
      ]
     },
     "execution_count": 117,
     "metadata": {},
     "output_type": "execute_result"
    }
   ],
   "source": [
    "# 값들만 조회\n",
    "d3.values()"
   ]
  },
  {
   "cell_type": "code",
   "execution_count": null,
   "id": "078a79bc",
   "metadata": {},
   "outputs": [
    {
     "data": {
      "text/plain": [
       "dict_items([('이름', '홍길동'), ('나이', 50), ('주소', '서울'), ('취미', ['게임', '독서'])])"
      ]
     },
     "execution_count": 118,
     "metadata": {},
     "output_type": "execute_result"
    }
   ],
   "source": [
    "# key - value 들을 튜플로 묶어서 반환 (key, value)\n",
    "d3.items()"
   ]
  },
  {
   "cell_type": "markdown",
   "id": "d97869af",
   "metadata": {
    "slideshow": {
     "slide_type": "slide"
    }
   },
   "source": [
    "# Set\n",
    "\n",
    "-   Set은 중복되는 값을 허용하지 않고 순서를 신경 쓰지 않는다.\n",
    "    -   원소를 식별할 수 있는 식별자가 없기 때문에 Set은 indexing과 slicing을 지원하지 않는다\n",
    "\n",
    "## Set 생성\n",
    "\n",
    "-   구문\n",
    "    -   {값, 값, 값 }\n",
    "\n",
    "> -   빈 Dictionary 만들기\n",
    ">     -   info = {}\n",
    ">     -   중괄호만 사용하면 빈 set이 아니라 빈 dictionary를 생성하는 것임.\n"
   ]
  },
  {
   "cell_type": "code",
   "execution_count": 221,
   "id": "304f16ea",
   "metadata": {},
   "outputs": [],
   "source": [
    "s1 = {1, 2, 3, 4, 5}\n",
    "\n",
    "# s1[0]  # set은 개별 값을 조회할 수 없다.\n",
    "# subscriptable type : indexing이 가능한 값들"
   ]
  },
  {
   "cell_type": "code",
   "execution_count": 198,
   "id": "5c88480a",
   "metadata": {
    "slideshow": {
     "slide_type": "fragment"
    }
   },
   "outputs": [
    {
     "data": {
      "text/plain": [
       "{1, 2, 3, 4, 5}"
      ]
     },
     "execution_count": 198,
     "metadata": {},
     "output_type": "execute_result"
    }
   ],
   "source": [
    "s2 = { 1, 1, 1, 2, 2, 2, 1, 1, 2, 3, 4, 4, 4, 5, 5, 5, 1, 3, 3}\n",
    "s2  # 중복된 건 안 넣어줌. 순서 신경 안 씀.\n"
   ]
  },
  {
   "cell_type": "code",
   "execution_count": 208,
   "id": "dfa86df8",
   "metadata": {},
   "outputs": [
    {
     "name": "stdout",
     "output_type": "stream",
     "text": [
      "1\n",
      "2\n",
      "3\n",
      "4\n",
      "5\n"
     ]
    }
   ],
   "source": [
    "for v in s2:\n",
    "    print (v)"
   ]
  },
  {
   "cell_type": "code",
   "execution_count": null,
   "id": "de0782be",
   "metadata": {},
   "outputs": [],
   "source": [
    "# list()  -> 다른 자료구조를 list로 변환\n",
    "l = list(s2)\n",
    "#l[2]"
   ]
  },
  {
   "cell_type": "markdown",
   "id": "79cf0f20",
   "metadata": {
    "slideshow": {
     "slide_type": "slide"
    }
   },
   "source": [
    "## Set 연산자\n",
    "\n",
    "-   **in, not in 연산자**\n",
    "    -   값 in Set\n",
    "        -   Set의 원소로 값이 **있으면** True, 없으면 False 반환\n",
    "    -   값 not in Set\n",
    "        -   Set의 원소로 값이 **없으면** True, 있으면 False 반환\n",
    "-   **len(Set)**\n",
    "    -   Set의 **원소의 개수** 반환\n",
    "-   **[집합연산자](#Set의-집합연산-연산자-및-메소드)**\n"
   ]
  },
  {
   "cell_type": "code",
   "execution_count": 206,
   "id": "1c530013",
   "metadata": {},
   "outputs": [
    {
     "data": {
      "text/plain": [
       "True"
      ]
     },
     "execution_count": 206,
     "metadata": {},
     "output_type": "execute_result"
    }
   ],
   "source": [
    "10 in s2\n",
    "10 not in s2"
   ]
  },
  {
   "cell_type": "markdown",
   "id": "080c2a17",
   "metadata": {
    "slideshow": {
     "slide_type": "slide"
    }
   },
   "source": [
    "## Set의 주요 메소드\n",
    "\n",
    "| 메소드           | 설명                                   |\n",
    "| ---------------- | -------------------------------------- |\n",
    "| add(값)          | 집합에 값 추가                         |\n",
    "| update(자료구조) | 자료구조내의 원소들을 모두 집합에 추가 |\n",
    "| pop()            | 원소를 반환하고 Set에서 삭제한다.      |\n",
    "| remove(값)       | 값을 찾아서 Set에서 삭제한다.          |\n"
   ]
  },
  {
   "cell_type": "code",
   "execution_count": 209,
   "id": "6ec0eee0",
   "metadata": {},
   "outputs": [
    {
     "data": {
      "text/plain": [
       "{1, 2, 3, 4, 5, 6}"
      ]
     },
     "execution_count": 209,
     "metadata": {},
     "output_type": "execute_result"
    }
   ],
   "source": [
    "s2.add(6)\n",
    "s2"
   ]
  },
  {
   "cell_type": "code",
   "execution_count": 210,
   "id": "b12f08b0",
   "metadata": {
    "slideshow": {
     "slide_type": "fragment"
    }
   },
   "outputs": [],
   "source": [
    "s2.add(6)"
   ]
  },
  {
   "cell_type": "code",
   "execution_count": 212,
   "id": "ca748fc3",
   "metadata": {},
   "outputs": [],
   "source": [
    "s2.update([1, 1, 1, 7, 8, 8, 8])"
   ]
  },
  {
   "cell_type": "code",
   "execution_count": 214,
   "id": "c568c285",
   "metadata": {},
   "outputs": [],
   "source": [
    "a = s2.pop()"
   ]
  },
  {
   "cell_type": "code",
   "execution_count": 213,
   "id": "bbd80325",
   "metadata": {},
   "outputs": [],
   "source": [
    "s2.remove(7)"
   ]
  },
  {
   "cell_type": "markdown",
   "id": "33d115cd",
   "metadata": {
    "slideshow": {
     "slide_type": "subslide"
    }
   },
   "source": [
    "## Set의 집합연산 연산자 및 메소드\n",
    "\n",
    "-   합집합\n",
    "    -   집합A | 집합B\n",
    "    -   집합A.union(집합B)\n",
    "-   교집합\n",
    "    -   집합A & 집합B\n",
    "    -   집합A.intersection(집합B)\n",
    "-   차집합\n",
    "    -   집합A - 집합B\n",
    "    -   집합A.difference(집합B)\n"
   ]
  },
  {
   "cell_type": "code",
   "execution_count": 216,
   "id": "d2a32b55",
   "metadata": {},
   "outputs": [],
   "source": [
    "s10 = {1, 2, 3, 4}\n",
    "s20 = {3, 4, 5, 6, 7}"
   ]
  },
  {
   "cell_type": "code",
   "execution_count": null,
   "id": "e2d43f89",
   "metadata": {},
   "outputs": [
    {
     "data": {
      "text/plain": [
       "{1, 2, 3, 4, 5, 6, 7}"
      ]
     },
     "execution_count": 217,
     "metadata": {},
     "output_type": "execute_result"
    }
   ],
   "source": [
    "s10 | s20  # 합집합\n",
    "s10.union(s20)"
   ]
  },
  {
   "cell_type": "code",
   "execution_count": null,
   "id": "1a0c73c8",
   "metadata": {},
   "outputs": [
    {
     "data": {
      "text/plain": [
       "{3, 4}"
      ]
     },
     "execution_count": 218,
     "metadata": {},
     "output_type": "execute_result"
    }
   ],
   "source": [
    "s10 & s20  # 교집합\n",
    "s10.intersection(s20)"
   ]
  },
  {
   "cell_type": "code",
   "execution_count": null,
   "id": "3876400a",
   "metadata": {},
   "outputs": [
    {
     "data": {
      "text/plain": [
       "{1, 2}"
      ]
     },
     "execution_count": 219,
     "metadata": {},
     "output_type": "execute_result"
    }
   ],
   "source": [
    "s10 - s20  # 차집합\n",
    "s10.difference(s20)"
   ]
  },
  {
   "cell_type": "markdown",
   "id": "17bf4f71",
   "metadata": {},
   "source": [
    "# 자료구조를 이용한 대입\n",
    "\n",
    "-   리스트, 튜플, 셋의 원소들을 개별 변수에 대입한다. 어느 자료구조에 적용하느냐에 따라 **리스트 대입, 튜플 대입, 셋 대입** 이라고 한다. 이중 리스트대입이나 튜플대입은 많이 사용된다.\n",
    "-   변수의 개수와 리스트 원소의 개수는 동일해야 한다.\n"
   ]
  },
  {
   "cell_type": "code",
   "execution_count": null,
   "id": "73b925bb",
   "metadata": {},
   "outputs": [],
   "source": [
    "a, b, c = 10, 20, 30  # tuple 대입\n",
    "a, b, c = {1, 2, 3}  # set 대입"
   ]
  },
  {
   "cell_type": "code",
   "execution_count": null,
   "id": "5cc921f4",
   "metadata": {},
   "outputs": [],
   "source": [
    "a, b, c = [\"가\", \"나\", \"다\"]  # list 대입"
   ]
  },
  {
   "cell_type": "code",
   "execution_count": null,
   "id": "64bf5839",
   "metadata": {
    "slideshow": {
     "slide_type": "fragment"
    }
   },
   "outputs": [],
   "source": [
    "a, b, c = {\"k1\":\"v1\", \"k2\":\"v2\", \"k3\":\"v3\"}"
   ]
  },
  {
   "cell_type": "markdown",
   "id": "a3778f41",
   "metadata": {
    "slideshow": {
     "slide_type": "slide"
    }
   },
   "source": [
    "# 자료구조 변환 함수\n",
    "\n",
    "-   **list(자료구조)**\n",
    "    -   대상 자료구조/Iterable을 List로 변환한다.\n",
    "-   **tuple(자료구조)**\n",
    "    -   대상 자료구조/Iterable을 Tuple로 변환\n",
    "-   **set(자료구조)**\n",
    "    -   대상 자료구조/Iterable을 Set으로 변환\n",
    "    -   다른 자료구조의 원소 중 중복을 빼고 조회할 때 set()를 이용해 Set으로 변환한다.\n",
    "-   Dictionary로 변환하는 함수는 없다.\n",
    "    -   dict(key=value, ..) 는 딕셔너리 생성하는 함수이다.\n",
    "-   변경 대상이 Dictionary 일 경우에는 key값들만 모아서 변환한다.\n",
    "\n",
    "> -   **Iterable**\n",
    ">     -   반복가능한 객체.\n",
    ">     -   여러개의 값을 요청을 받을 때마다 하나씩 제공해주는 타입을 iterable 이라고 함.\n",
    ">         -   Iterable이 제공하는 값을 반복문을 이용해 조회할 경우 **for in문**을 사용한다.\n",
    ">     -   대표적으로 자료구조, 문자열 등이 있다.\n"
   ]
  },
  {
   "cell_type": "code",
   "execution_count": 222,
   "id": "07fd6373",
   "metadata": {
    "slideshow": {
     "slide_type": "fragment"
    }
   },
   "outputs": [
    {
     "data": {
      "text/plain": [
       "[1, 2, 3, 4, 5]"
      ]
     },
     "execution_count": 222,
     "metadata": {},
     "output_type": "execute_result"
    }
   ],
   "source": [
    "list(s1)"
   ]
  },
  {
   "cell_type": "code",
   "execution_count": 223,
   "id": "d1a5e609",
   "metadata": {},
   "outputs": [
    {
     "data": {
      "text/plain": [
       "['월', '화', '수', '목', '금', '토', '일']"
      ]
     },
     "execution_count": 223,
     "metadata": {},
     "output_type": "execute_result"
    }
   ],
   "source": [
    "a = \"월화수목금토일\"\n",
    "a2 = list(a)\n",
    "a2"
   ]
  },
  {
   "cell_type": "code",
   "execution_count": 224,
   "id": "5a87db5f",
   "metadata": {},
   "outputs": [
    {
     "data": {
      "text/plain": [
       "{'금', '목', '수', '월', '일', '토', '화'}"
      ]
     },
     "execution_count": 224,
     "metadata": {},
     "output_type": "execute_result"
    }
   ],
   "source": [
    "set(a)"
   ]
  },
  {
   "cell_type": "code",
   "execution_count": 225,
   "id": "eb99b615",
   "metadata": {},
   "outputs": [
    {
     "data": {
      "text/plain": [
       "('월', '화', '수', '목', '금', '토', '일')"
      ]
     },
     "execution_count": 225,
     "metadata": {},
     "output_type": "execute_result"
    }
   ],
   "source": [
    "tuple(a)"
   ]
  },
  {
   "cell_type": "code",
   "execution_count": 227,
   "id": "ab9368b3",
   "metadata": {},
   "outputs": [
    {
     "data": {
      "text/plain": [
       "'월화수목금토일'"
      ]
     },
     "execution_count": 227,
     "metadata": {},
     "output_type": "execute_result"
    }
   ],
   "source": [
    "\"-\".join(a2)\n",
    "\", \".join(a2)\n",
    "\"\".join(a2)"
   ]
  },
  {
   "cell_type": "code",
   "execution_count": 228,
   "id": "aaf213a5",
   "metadata": {},
   "outputs": [],
   "source": [
    "s = set()  # 빈셋\n",
    "s.add(1)"
   ]
  },
  {
   "cell_type": "code",
   "execution_count": 229,
   "id": "117fe13f",
   "metadata": {},
   "outputs": [
    {
     "data": {
      "text/plain": [
       "{1}"
      ]
     },
     "execution_count": 229,
     "metadata": {},
     "output_type": "execute_result"
    }
   ],
   "source": [
    "s"
   ]
  },
  {
   "cell_type": "code",
   "execution_count": null,
   "id": "e1190ecd",
   "metadata": {},
   "outputs": [
    {
     "data": {
      "text/plain": [
       "0"
      ]
     },
     "execution_count": 230,
     "metadata": {},
     "output_type": "execute_result"
    }
   ],
   "source": [
    "l = list()  # 빈 리스트\n",
    "l = []\n",
    "len(l)"
   ]
  },
  {
   "cell_type": "code",
   "execution_count": null,
   "id": "5c74ac90",
   "metadata": {},
   "outputs": [],
   "source": [
    "result = []\n",
    "\n",
    "result.append(1+1)\n",
    "result.append(10*20)\n",
    "result.append(100 - 20)"
   ]
  },
  {
   "cell_type": "code",
   "execution_count": 232,
   "id": "6ed1ed07",
   "metadata": {},
   "outputs": [],
   "source": [
    "d = {}"
   ]
  },
  {
   "cell_type": "code",
   "execution_count": 231,
   "id": "abc139ce",
   "metadata": {},
   "outputs": [
    {
     "data": {
      "text/plain": [
       "False"
      ]
     },
     "execution_count": 231,
     "metadata": {},
     "output_type": "execute_result"
    }
   ],
   "source": [
    "bool(l)"
   ]
  },
  {
   "cell_type": "markdown",
   "id": "b4671a5d",
   "metadata": {
    "slideshow": {
     "slide_type": "skip"
    }
   },
   "source": [
    "# TODO\n"
   ]
  },
  {
   "cell_type": "code",
   "execution_count": null,
   "id": "12398809",
   "metadata": {
    "slideshow": {
     "slide_type": "skip"
    }
   },
   "outputs": [],
   "source": [
    "# 문제 1 ~ 7\n",
    "jumsu = [100, 90, 100, 80, 70, 100, 80, 90, 95, 85]\n",
    "# 위 리스트는 학생번호 1번 ~ 10번까지 10명의 시험 점수이다."
   ]
  },
  {
   "cell_type": "code",
   "execution_count": 121,
   "id": "0fe99cbf",
   "metadata": {},
   "outputs": [
    {
     "data": {
      "text/plain": [
       "80"
      ]
     },
     "execution_count": 121,
     "metadata": {},
     "output_type": "execute_result"
    }
   ],
   "source": [
    "# (1)  7번의 점수를 출력하세요\n",
    "jumsu[6]"
   ]
  },
  {
   "cell_type": "code",
   "execution_count": null,
   "id": "16948819",
   "metadata": {},
   "outputs": [
    {
     "data": {
      "text/plain": [
       "[100, 90, 100, 80, 70]"
      ]
     },
     "execution_count": 123,
     "metadata": {},
     "output_type": "execute_result"
    }
   ],
   "source": [
    "# (2)  1번부터 5번까지의 점수를 출력하세요.\n",
    "jumsu[:5]"
   ]
  },
  {
   "cell_type": "code",
   "execution_count": null,
   "id": "6bfe1132",
   "metadata": {},
   "outputs": [
    {
     "data": {
      "text/plain": [
       "[80, 70, 100, 80]"
      ]
     },
     "execution_count": 124,
     "metadata": {},
     "output_type": "execute_result"
    }
   ],
   "source": [
    "# (3)  4, 5, 6, 7번의 점수를 출력하세요.\n",
    "jumsu[3:7]"
   ]
  },
  {
   "cell_type": "code",
   "execution_count": null,
   "id": "e92c9218",
   "metadata": {},
   "outputs": [
    {
     "data": {
      "text/plain": [
       "(100, 100, 90)"
      ]
     },
     "execution_count": 182,
     "metadata": {},
     "output_type": "execute_result"
    }
   ],
   "source": [
    "# 5, 2, 7번 출력하세요.\n",
    "jumsu[4], jumsu[1], jumsu[6]"
   ]
  },
  {
   "cell_type": "code",
   "execution_count": 130,
   "id": "ae85bbf4",
   "metadata": {},
   "outputs": [
    {
     "data": {
      "text/plain": [
       "[90, 80, 100, 90, 85]"
      ]
     },
     "execution_count": 130,
     "metadata": {},
     "output_type": "execute_result"
    }
   ],
   "source": [
    "# (4) 짝수번째 점수를 출력하세요.\n",
    "jumsu[1::2]"
   ]
  },
  {
   "cell_type": "code",
   "execution_count": 129,
   "id": "9a8883fe",
   "metadata": {},
   "outputs": [
    {
     "data": {
      "text/plain": [
       "[100, 100, 70, 80, 95]"
      ]
     },
     "execution_count": 129,
     "metadata": {},
     "output_type": "execute_result"
    }
   ],
   "source": [
    "# (5) 홀수번째 점수를 출력하세요.\n",
    "jumsu[::2]"
   ]
  },
  {
   "cell_type": "code",
   "execution_count": 132,
   "id": "1193147a",
   "metadata": {},
   "outputs": [
    {
     "name": "stdout",
     "output_type": "stream",
     "text": [
      "[100, 90, 100, 80, 70, 100, 80, 90, 20, 85]\n"
     ]
    }
   ],
   "source": [
    "# (6) 9번의 점수를 20으로 변경하고 전체 출력하세요.\n",
    "jumsu[8] = 20\n",
    "print(jumsu)"
   ]
  },
  {
   "cell_type": "code",
   "execution_count": null,
   "id": "101f98ee",
   "metadata": {},
   "outputs": [],
   "source": [
    "#(아직 안 배워서 못푼 문제) (7) 중복된 점수는 제거하고 하나씩만 나오도록 출력하세요.\n",
    "set(jumsu)  # list를 set으로 변환. 변환 시 중복된 값은 하나만 남겨놓는다. "
   ]
  },
  {
   "cell_type": "code",
   "execution_count": null,
   "id": "3bd88080",
   "metadata": {},
   "outputs": [
    {
     "data": {
      "text/plain": [
       "['복숭아', '수박', '딸기', '사과', '귤']"
      ]
     },
     "execution_count": 185,
     "metadata": {},
     "output_type": "execute_result"
    }
   ],
   "source": [
    "# 문제 8 ~ 9\n",
    "fruits = [\"복숭아\", \"수박\", \"딸기\"]\n",
    "\n",
    "# (8) fruits 리스트에 마지막 원소로 \"사과\", \"귤\"을 추가하세요.\n",
    "\n",
    "#내가 푼 것.\n",
    "# fruits.insert(3, [\"사과\", \"귤\"])\n",
    "# print(fruits)\n",
    "\n",
    "#강사님.\n",
    "fruits + [\"사과\", \"귤\"] # 새로운 list에 두 리스트들의 원소를 넣어서 반환\n",
    "\n",
    "fruits.extend([\"사과\", \"귤\"])\n",
    "fruits"
   ]
  },
  {
   "cell_type": "code",
   "execution_count": 186,
   "id": "2ca1d303",
   "metadata": {},
   "outputs": [
    {
     "data": {
      "text/plain": [
       "['복숭아', '수박', '딸기', '사과', '귤', '오렌지']"
      ]
     },
     "execution_count": 186,
     "metadata": {},
     "output_type": "execute_result"
    }
   ],
   "source": [
    "#오렌지 추가\n",
    "fruits.append(\"오렌지\")\n",
    "fruits"
   ]
  },
  {
   "cell_type": "code",
   "execution_count": 187,
   "id": "f9208b0d",
   "metadata": {},
   "outputs": [
    {
     "name": "stdout",
     "output_type": "stream",
     "text": [
      "['수박', '딸기', '사과', '귤', '오렌지']\n"
     ]
    }
   ],
   "source": [
    "# (9) fruits 리스트에서 \"복숭아\"를 제거하세요.\n",
    "fruits.remove(\"복숭아\")\n",
    "print(fruits)"
   ]
  },
  {
   "cell_type": "code",
   "execution_count": 193,
   "id": "d4c340f2",
   "metadata": {},
   "outputs": [
    {
     "name": "stdout",
     "output_type": "stream",
     "text": [
      "{'이름': '문지영', '나이': 26, 'email주소': 'mjy6812@naver.com', '취미': '영화감상, 공연관람', '결혼유무': '미혼'}\n"
     ]
    },
    {
     "data": {
      "text/plain": [
       "{'name': '문지영',\n",
       " '나이': 26,\n",
       " 'email주소': 'mjy@nav',\n",
       " '취미': ['영화', '공연'],\n",
       " '결혼여부': False}"
      ]
     },
     "execution_count": 193,
     "metadata": {},
     "output_type": "execute_result"
    }
   ],
   "source": [
    "# 문제 10 ~ 15\n",
    "# (10)본인의 이름, 나이, email주소, 취미, 결혼유무를 사전(딕셔너리)으로 생성.\n",
    "# 취미는 2개 이상의 값을 넣는다..\n",
    "\n",
    "dic = {\"이름\":\"문지영\", \"나이\":26, \"email주소\":\"mjy6812@naver.com\", \"취미\":\"영화감상, 공연관람\", \"결혼유무\":\"미혼\"}\n",
    "print(dic)\n",
    "\n",
    "# 강사님\n",
    "info = dict(name=\"문지영\", 나이 = 26, email주소 = \"mjy@nav\", 취미 = ['영화', '공연'], 결혼여부=False) # {'name':'문지영'}\n",
    "info"
   ]
  },
  {
   "cell_type": "code",
   "execution_count": 191,
   "id": "24c18760",
   "metadata": {},
   "outputs": [
    {
     "name": "stdout",
     "output_type": "stream",
     "text": [
      "문지영\n",
      "mjy6812@naver.com\n"
     ]
    }
   ],
   "source": [
    "# (11) 위 딕셔너리에서 이름과 email주소를 조회해서 출력하세요.\n",
    "dic['이름']\n",
    "dic['email주소']\n",
    "\n",
    "#강사님\n",
    "print(dic[\"이름\"])\n",
    "print(dic[\"email주소\"])"
   ]
  },
  {
   "cell_type": "code",
   "execution_count": 194,
   "id": "9ae578d5",
   "metadata": {},
   "outputs": [
    {
     "data": {
      "text/plain": [
       "'공연'"
      ]
     },
     "execution_count": 194,
     "metadata": {},
     "output_type": "execute_result"
    }
   ],
   "source": [
    "# (12) 위 딕셔너리에서 취미중 두번째 취미를 조회해서 출력하세요.\n",
    "dic['취미'][6:10]\n",
    "\n",
    "#강사님\n",
    "info['취미'][1]"
   ]
  },
  {
   "cell_type": "code",
   "execution_count": 179,
   "id": "0a38bcb6",
   "metadata": {},
   "outputs": [
    {
     "data": {
      "text/plain": [
       "{'이름': '문지영',\n",
       " '나이': 26,\n",
       " 'email주소': 'mjy6812@naver.com',\n",
       " '취미': '영화감상, 공연관람',\n",
       " '결혼유무': '무',\n",
       " '몸무게': '48kg',\n",
       " '키': 171}"
      ]
     },
     "execution_count": 179,
     "metadata": {},
     "output_type": "execute_result"
    }
   ],
   "source": [
    "# (13) 위 딕셔너리에 몸무게와 키 항목을 추가하세요.\n",
    "dic['몸무게'] = '48kg'\n",
    "dic['키'] = 171\n",
    "dic"
   ]
  },
  {
   "cell_type": "code",
   "execution_count": 180,
   "id": "792b445d",
   "metadata": {},
   "outputs": [
    {
     "data": {
      "text/plain": [
       "{'이름': '문지영',\n",
       " '나이': 26,\n",
       " 'email주소': 'moon@naver.com',\n",
       " '취미': '영화감상, 공연관람',\n",
       " '결혼유무': '무',\n",
       " '몸무게': '48kg',\n",
       " '키': 171}"
      ]
     },
     "execution_count": 180,
     "metadata": {},
     "output_type": "execute_result"
    }
   ],
   "source": [
    "# (14) 위 딕셔너리에서 email 주소를 다른 값으로 변경하세요.\n",
    "dic['email주소'] = 'moon@naver.com'\n",
    "dic"
   ]
  },
  {
   "cell_type": "code",
   "execution_count": null,
   "id": "291346fb",
   "metadata": {},
   "outputs": [],
   "source": [
    "# (15) 위 딕셔너리에서 나이를 제거하세요.\n",
    "dic.pop(\"나이\")  #이건 지우고 반환해줌\n",
    "dic\n",
    "\n",
    "\n",
    "# 강사님1\n",
    "age = dic.pop(\"나이\")\n",
    "\n",
    "# 강사님2\n",
    "del dic['취미']  #이것도 지울 수 있는데 반환 안 해줌."
   ]
  }
 ],
 "metadata": {
  "kernelspec": {
   "display_name": "Python 3",
   "language": "python",
   "name": "python3"
  },
  "language_info": {
   "codemirror_mode": {
    "name": "ipython",
    "version": 3
   },
   "file_extension": ".py",
   "mimetype": "text/x-python",
   "name": "python",
   "nbconvert_exporter": "python",
   "pygments_lexer": "ipython3",
   "version": "3.13.7"
  },
  "toc": {
   "base_numbering": 1,
   "nav_menu": {},
   "number_sections": true,
   "sideBar": true,
   "skip_h1_title": false,
   "title_cell": "Table of Contents",
   "title_sidebar": "Contents",
   "toc_cell": false,
   "toc_position": {
    "height": "calc(100% - 180px)",
    "left": "10px",
    "top": "150px",
    "width": "512px"
   },
   "toc_section_display": true,
   "toc_window_display": true
  },
  "varInspector": {
   "cols": {
    "lenName": 16,
    "lenType": 16,
    "lenVar": 40
   },
   "kernels_config": {
    "python": {
     "delete_cmd_postfix": "",
     "delete_cmd_prefix": "del ",
     "library": "var_list.py",
     "varRefreshCmd": "print(var_dic_list())"
    },
    "r": {
     "delete_cmd_postfix": ") ",
     "delete_cmd_prefix": "rm(",
     "library": "var_list.r",
     "varRefreshCmd": "cat(var_dic_list()) "
    }
   },
   "types_to_exclude": [
    "module",
    "function",
    "builtin_function_or_method",
    "instance",
    "_Feature"
   ],
   "window_display": false
  }
 },
 "nbformat": 4,
 "nbformat_minor": 5
}
