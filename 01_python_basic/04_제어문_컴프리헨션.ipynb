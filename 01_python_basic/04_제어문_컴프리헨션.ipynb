{
 "cells": [
  {
   "attachments": {
    "image.png": {
     "image/png": "[encoded data removed]"
    }
   },
   "cell_type": "markdown",
   "id": "8c49cd8e",
   "metadata": {
    "slideshow": {
     "slide_type": "slide"
    }
   },
   "source": [
    "# 제어문(Control flow statement)\n",
    "\n",
    "기본적으로 프로그램은 순차구조를 가짐. 즉 작성한 순서대로 실행이 된다.  \n",
    "이런 실행흐름을 다른 순서로 제어하기 위한 구문을 만드는 문법이 제어문.  \n",
    "제어문은 **조건문** 과 **반복문** 두가지 문법이 있다.\n",
    "\n",
    "-   **조건문**\n",
    "    -   if 문\n",
    "-   **반복문**\n",
    "    -   while 문\n",
    "    -   for in 문\n",
    "\n",
    "# 조건문/분기문 (conditional statement)\n",
    "\n",
    "-   프로그램이 명령문들을 실행하는 도중 특정 순서에서 **조건에 따라 흐름의 나눠져야 하는 경우 사용한다**\n",
    "-   파이썬은 조건문으로 **if문**이 있다.\n",
    "\n",
    "![image.png](attachment:image.png)\n",
    "\n",
    "입력 받은 a 의 값이 0인지 여부에 따라 두가지 흐름으로 분기된다.\n"
   ]
  },
  {
   "cell_type": "markdown",
   "id": "2a3c1835",
   "metadata": {
    "slideshow": {
     "slide_type": "subslide"
    }
   },
   "source": [
    "## 구문\n",
    "\n",
    "-   조건이 True일 경우만 특정 구문들을 실행 하는 조건문.\n",
    "\n",
    "```python\n",
    "if 조건:    # 조건은 bool 표현식을 기술한다. 조건선언 다음에 : 으로 선언해서 코드블록을 구분한다.\n",
    "    명령문1  # 조건이 True이면 실행할 구문들을 코드블럭에 기술한다.\n",
    "    명령문2  # 코드 블록은 들여쓰기를 이용해 묶어준다. 보통 공백 4칸으로 들여쓰기를 한다.\n",
    "    ...\n",
    "```\n",
    "\n",
    "> ### 파이썬의 코드블록(code block)\n",
    ">\n",
    "> 코드블록이란 **여러 명령문들을 묶어놓은 것을** 말한다. 코드블록으로 묶이면 실행시 같이 다 실행되고 실행이 안되면 같이 다 실행이 안된다.  \n",
    "> 파이썬에서는 코드블록을 작성할 때 **들여쓰기를 이용해 묶어준다.**  \n",
    "> 같은 칸만큼 들여쓰기를 한 명령문들이 같은 블록으로 묶인다.\n",
    "> 들여쓰기는 관례적으로 **공백 4칸을** 사용한다.\n",
    "\n",
    "> ### pass 키워드(예약어)\n",
    ">\n",
    "> -   빈 구현부를 만들때 사용\n",
    ">     -   제어문, 함수의 body 코드블럭은 비울 수 없다. 반드시 명령문을 한개 이상 작성해야한다.\n",
    ">     -   작성할 내용이 없을 경우 사용하는 키워드로 `pass`를 사용한다.\n"
   ]
  },
  {
   "cell_type": "code",
   "execution_count": 35,
   "id": "9aa311a5",
   "metadata": {
    "slideshow": {
     "slide_type": "fragment"
    }
   },
   "outputs": [
    {
     "name": "stdout",
     "output_type": "stream",
     "text": [
      "숫자를 입력 받습니다.\n"
     ]
    },
    {
     "name": "stdout",
     "output_type": "stream",
     "text": [
      "8\n"
     ]
    }
   ],
   "source": [
    "print(\"숫자를 입력 받습니다.\")  # 1\n",
    "num = int(input(\"숫자: \"))     # 2\n",
    "# 만약에 num이 0이면 \"영입니다.\" 를 출력. 0이 아니면 아무일도 안한다. # 3\n",
    "if num == 0:\n",
    "    print(\"영 입니다.\")   # 실행문이 하나일 경우에는 한 줄에 작성 가능.\n",
    "\n",
    "print(num)  # 4"
   ]
  },
  {
   "cell_type": "markdown",
   "id": "09c79c35",
   "metadata": {
    "slideshow": {
     "slide_type": "subslide"
    }
   },
   "source": [
    "-   **조건이 True일 때 False일때 실행 구문이 분기되는 조건문.**\n",
    "\n",
    "```python\n",
    "if 조건:\n",
    "    명령문1_1 # 조건이 True일 경우 실행할 구문들\n",
    "    명령문1_2\n",
    "    ...\n",
    "else:\n",
    "    명령문2_1 # 조건이 False일 경우 실행할 구문들\n",
    "    명령문2_2\n",
    "    ...\n",
    "```\n"
   ]
  },
  {
   "cell_type": "code",
   "execution_count": 36,
   "id": "87b51956",
   "metadata": {
    "slideshow": {
     "slide_type": "fragment"
    }
   },
   "outputs": [
    {
     "name": "stdout",
     "output_type": "stream",
     "text": [
      "영이 아님\n",
      "Not Zero\n",
      "종료\n"
     ]
    }
   ],
   "source": [
    "num = 10  # 1\n",
    "# 2  # 입력 받은 숫자가 0이면 \"0입니다.\", 아니면 \"0이 아닙니다.\"를 출력\n",
    "if num == 0:\n",
    "    print(\"영 입니다.\")\n",
    "    print(\"ZERO\")\n",
    "else: \n",
    "    print(\"영이 아님\")\n",
    "    print(\"Not Zero\")\n",
    "\n",
    "#3 \n",
    "print('종료')"
   ]
  },
  {
   "cell_type": "markdown",
   "id": "621eae9a",
   "metadata": {
    "slideshow": {
     "slide_type": "subslide"
    }
   },
   "source": [
    "-   **조건이 여러 개인 조건문.**\n",
    "\n",
    "```python\n",
    "if 조건1:\n",
    "    명령문1_1  # 조건1이 True일 경우 실행할 코드블록.\n",
    "    명령문1_2\n",
    "    ...\n",
    "elif 조건2:    # 다음 조건으로 앞의 조건들이 모드 False일 경우 비교한다.\n",
    "    명령문2_1  # 조건2가 True일 경우 실행할 코드블록.\n",
    "    명령문2_2\n",
    "    ...\n",
    "elif 조건3 :\n",
    "    명령문3_1\n",
    "    명령문3_2\n",
    "    ...\n",
    "else:         # 위의 모든 조건이 False일 경우 실행하는 코드블록. 생략 가능하다.\n",
    "    명령문4\n",
    "```\n"
   ]
  },
  {
   "cell_type": "code",
   "execution_count": 37,
   "id": "4c6a532d",
   "metadata": {
    "slideshow": {
     "slide_type": "fragment"
    }
   },
   "outputs": [
    {
     "name": "stdout",
     "output_type": "stream",
     "text": [
      "10은 양수\n",
      "종료\n"
     ]
    }
   ],
   "source": [
    "num = 10  # 1\n",
    "# 2 - num이  0 초과면 \"양수\" , 0이면 0, 0 미만이면 \"음수\" 를 출력\n",
    "if num > 0:\n",
    "    print(f\"{num}은 양수\")\n",
    "elif num < 0:\n",
    "    print(f\"{num}은 음수\")\n",
    "# elif num == 0:\n",
    "else:\n",
    "    print(\"0\")\n",
    "print(\"종료\")  # 3"
   ]
  },
  {
   "cell_type": "code",
   "execution_count": 38,
   "id": "d5f5c5b5",
   "metadata": {},
   "outputs": [
    {
     "data": {
      "text/plain": [
       "True"
      ]
     },
     "execution_count": 38,
     "metadata": {},
     "output_type": "execute_result"
    }
   ],
   "source": [
    "\"199\".isdigit()"
   ]
  },
  {
   "cell_type": "code",
   "execution_count": 39,
   "id": "4d9d2a48",
   "metadata": {},
   "outputs": [
    {
     "name": "stdout",
     "output_type": "stream",
     "text": [
      "8월은 31일까지 있습니다.\n",
      "종료\n"
     ]
    }
   ],
   "source": [
    "# 1) 월을 입력받는다.\n",
    "month = int(input(\"월: \"))  # 쓰는 걸 편하게 하기 위해 숫자로 변경했음. int\n",
    "if str(month).isdigit():\n",
    "    month = int(month)\n",
    "\n",
    "    # 2)  1, 3, 5, 7, 8, 10, 12월이면 \"31일까지 있습니다.\" 를   # 다 뒤로 넣으려면 선택하고 tab, 취소하려면 shift + tab\n",
    "    # 2월이면 \"28일 또는 29일까지 있습니다.\" 를\n",
    "    # 4, 6, 9, 11월이면 \"30일까지 있습니다.\" 를 출력\n",
    "    if month in [1, 3, 5, 7, 8, 10, 12]:\n",
    "        print(f\"{month}월은 31일까지 있습니다.\")\n",
    "    elif month == 2:\n",
    "        print(f\"{month}월은 28일 또는 29일 까지 있습니다.\")\n",
    "    elif month in [4, 6, 9, 11]:\n",
    "        print(f\"{month}월은 30일까지 있습니다.\")\n",
    "    else:\n",
    "        print(f\"{month}는 잘못된 월입니다.\")\n",
    "else:\n",
    "    print(\"월은 1 ~ 12 사이의 정수만 입력하세요.\")\n",
    "\n",
    "# 3) 종료 출력\n",
    "print(\"종료\")"
   ]
  },
  {
   "cell_type": "code",
   "execution_count": 40,
   "id": "ee5c85c3",
   "metadata": {},
   "outputs": [
    {
     "data": {
      "text/plain": [
       "False"
      ]
     },
     "execution_count": 40,
     "metadata": {},
     "output_type": "execute_result"
    }
   ],
   "source": [
    "bool(0)   # 값을 논리형으로 바꾸고 싶을 때 쓰는 함수 bool"
   ]
  },
  {
   "cell_type": "code",
   "execution_count": 41,
   "id": "40191770",
   "metadata": {},
   "outputs": [
    {
     "name": "stdout",
     "output_type": "stream",
     "text": [
      "ID escape를 저장했습니다.\n"
     ]
    }
   ],
   "source": [
    "cust_id = input(\"ID: \")\n",
    "#if len(cust_id) !=0:   # 문자열 길이가 0이 아니면 True, 0이면 False\n",
    "if cust_id:  # 문자열: 1글자 이상이면 True, 빈 문자열이 False\n",
    "    print(f\"ID {cust_id}를 저장했습니다.\")"
   ]
  },
  {
   "attachments": {
    "image.png": {
     "image/png": "[encoded data removed]"
    }
   },
   "cell_type": "markdown",
   "id": "2149b728",
   "metadata": {
    "slideshow": {
     "slide_type": "slide"
    }
   },
   "source": [
    "# 반복문 (Loop statement)\n",
    "\n",
    "특정 구문들을 반복해서 실행할 때 사용한다. 동일한 코드를 여러번 반복하거나 값이 일정하게 변하는 코드를 반복할 경우 사용한다.  \n",
    "단순 반복을 처리하는 **while문**과 iterable객체가 제공하는 값들을 반복 조회하는 **for in문** 두가지 문법이 있다.\n",
    "\n",
    "![image.png](attachment:image.png)\n",
    "\n",
    "count의 값이 limit의 값보다 크거나 같을때 까지 count의 값을 1증가 후 출력하는 구문을 반복한다.\n"
   ]
  },
  {
   "cell_type": "code",
   "execution_count": 42,
   "id": "543fba11",
   "metadata": {},
   "outputs": [
    {
     "data": {
      "text/plain": [
       "True"
      ]
     },
     "execution_count": 42,
     "metadata": {},
     "output_type": "execute_result"
    }
   ],
   "source": [
    "bool(l)"
   ]
  },
  {
   "cell_type": "markdown",
   "id": "b4740a36",
   "metadata": {
    "slideshow": {
     "slide_type": "subslide"
    }
   },
   "source": [
    "## while문\n",
    "\n",
    "-   조건이 True인 동안 구문을 반복해서 실행한다.\n",
    "\n",
    "### 구문\n",
    "\n",
    "```python\n",
    "while 조건:       # 조건은 bool 표현식을 기술한다. 조건선언 다음에 : 으로 선언해서 코드블록을 구분한다\n",
    "    반복할 구문1  # 반복할 구문을 코드블록으로 작성한다.\n",
    "    반복할 구문2\n",
    "    ...\n",
    "```\n"
   ]
  },
  {
   "cell_type": "code",
   "execution_count": 43,
   "id": "6b11bde6",
   "metadata": {
    "slideshow": {
     "slide_type": "fragment"
    }
   },
   "outputs": [
    {
     "name": "stdout",
     "output_type": "stream",
     "text": [
      "1. 안녕하세요.\n",
      "2. 안녕하세요.\n",
      "3. 안녕하세요.\n",
      "4. 안녕하세요.\n",
      "5. 안녕하세요.\n",
      "6. 안녕하세요.\n",
      "7. 안녕하세요.\n",
      "8. 안녕하세요.\n",
      "9. 안녕하세요.\n",
      "10. 안녕하세요.\n",
      "종료\n"
     ]
    }
   ],
   "source": [
    "#\"안녕하세요\" 를 10번 출력\n",
    "cnt = 1  # 1\n",
    "\n",
    "# 2. cnt<=10 동안 코드를 반복\n",
    "while cnt <= 10:\n",
    "    print(f\"{cnt}. 안녕하세요.\")\n",
    "    cnt = cnt + 1\n",
    "    #cnt += 1\n",
    "\n",
    "# 3\n",
    "print(\"종료\")"
   ]
  },
  {
   "cell_type": "code",
   "execution_count": 44,
   "id": "3d543d8b",
   "metadata": {},
   "outputs": [],
   "source": [
    "# while True:  무한히 돌리는 "
   ]
  },
  {
   "cell_type": "markdown",
   "id": "04f12e55",
   "metadata": {
    "slideshow": {
     "slide_type": "subslide"
    }
   },
   "source": [
    "## for in 문\n",
    "\n",
    "-   Iterable 객체를 순환조회 할 때 사용한다.\n",
    "    -   for in문은 Iterable 타입의 객체가 가지고 있는 값들을 하나씩 처리하는 구문을 작성할 때 사용한다.\n",
    "\n",
    "> -   **Iterable**\n",
    ">     -   반복가능한 객체. 반복문(for in)을 이용해 일련의 값들을 반복적으로 각각 제공하는 객체를 말한다.\n",
    ">     -   대표적으로 List, Tuple, Dictionary, Set, 문자열 등이 있다.\n",
    "\n",
    "### 구문\n",
    "\n",
    "```python\n",
    "for 변수 in Iterable: # for in 선언후 : 으로 선언부와 구현부를 나눈다.\n",
    "    반복구문          # Iterable이 반복시 제공하는 값을 가지는 \"변수\"를 이용해 값들을 처리하는 구문을 코드블록으로 작성한다.\n",
    "    반복구문\n",
    "```\n"
   ]
  },
  {
   "cell_type": "code",
   "execution_count": 45,
   "id": "da0ce0f6",
   "metadata": {
    "slideshow": {
     "slide_type": "fragment"
    }
   },
   "outputs": [
    {
     "name": "stdout",
     "output_type": "stream",
     "text": [
      "1\n",
      "2\n",
      "3\n",
      "4\n",
      "5\n"
     ]
    }
   ],
   "source": [
    "l = [1, 2, 3, 4, 5]\n",
    "\n",
    "for v in l:\n",
    "    print(v)\n",
    "\n",
    "#위랑 똑같다.\n",
    "# print(l[0])\n",
    "# print(l[1])\n",
    "# print(l[2])\n",
    "# print(l[3])\n",
    "# print(l[4])"
   ]
  },
  {
   "cell_type": "code",
   "execution_count": 46,
   "id": "e5d7dab1",
   "metadata": {},
   "outputs": [
    {
     "name": "stdout",
     "output_type": "stream",
     "text": [
      "2\n",
      "4\n"
     ]
    }
   ],
   "source": [
    "# 짝수만 출력.\n",
    "for v in l: \n",
    "    if v % 2 == 0:\n",
    "        print(v)"
   ]
  },
  {
   "cell_type": "code",
   "execution_count": 47,
   "id": "7fe51531",
   "metadata": {},
   "outputs": [
    {
     "name": "stdout",
     "output_type": "stream",
     "text": [
      "[11, 12, 13, 14, 15]\n"
     ]
    }
   ],
   "source": [
    "# l의 모든 원소들의 값을 일괄적으로 10씩 더하기\n",
    "result = []  # 처리한 결과들을 저장할 빈 list\n",
    "for v in l:\n",
    "    result.append(v+10)\n",
    "\n",
    "print(result)  # [11, 12, 13, 14, 15]"
   ]
  },
  {
   "cell_type": "code",
   "execution_count": 48,
   "metadata": {},
   "outputs": [
    {
     "name": "stdout",
     "output_type": "stream",
     "text": [
      "1\n",
      "2\n",
      "3\n",
      "5\n"
     ]
    }
   ],
   "source": [
    "for v in {1, 2, 3, 5}:\n",
    "    print(v)"
   ]
  },
  {
   "cell_type": "code",
   "execution_count": 49,
   "id": "8c3fdedd",
   "metadata": {},
   "outputs": [
    {
     "name": "stdout",
     "output_type": "stream",
     "text": [
      "1\n",
      "20\n",
      "1\n",
      "4\n"
     ]
    }
   ],
   "source": [
    "for v in (1, 20, 1, 4):   #tuple\n",
    "    print(v)"
   ]
  },
  {
   "cell_type": "code",
   "execution_count": 50,
   "id": "d24ec2cc",
   "metadata": {},
   "outputs": [
    {
     "name": "stdout",
     "output_type": "stream",
     "text": [
      "a\n",
      "b\n",
      "c\n"
     ]
    }
   ],
   "source": [
    "d = {\"a\": 10, \"b\": 2, \"c\": -100 }\n",
    "for key in d:\n",
    "    print(key)"
   ]
  },
  {
   "cell_type": "code",
   "execution_count": 51,
   "id": "cd346da5",
   "metadata": {},
   "outputs": [
    {
     "name": "stdout",
     "output_type": "stream",
     "text": [
      "10\n",
      "2\n",
      "-100\n"
     ]
    }
   ],
   "source": [
    "for v in d.values():\n",
    "    print(v)"
   ]
  },
  {
   "cell_type": "code",
   "execution_count": 52,
   "id": "24ad2ec5",
   "metadata": {},
   "outputs": [
    {
     "name": "stdout",
     "output_type": "stream",
     "text": [
      "('a', 10) <class 'tuple'>\n",
      "('b', 2) <class 'tuple'>\n",
      "('c', -100) <class 'tuple'>\n"
     ]
    }
   ],
   "source": [
    "d.items()\n",
    "# [('a', 10), ('b', 2), ('c', -100)]\n",
    "for v in d.items():\n",
    "    print(v, type(v))"
   ]
  },
  {
   "cell_type": "code",
   "execution_count": 53,
   "id": "deba32de",
   "metadata": {},
   "outputs": [
    {
     "name": "stdout",
     "output_type": "stream",
     "text": [
      "a 10\n"
     ]
    }
   ],
   "source": [
    "v1, v2 = 'a', '10'\n",
    "print(v1, v2)"
   ]
  },
  {
   "cell_type": "code",
   "execution_count": 54,
   "id": "726867ce",
   "metadata": {},
   "outputs": [
    {
     "name": "stdout",
     "output_type": "stream",
     "text": [
      "a---10\n",
      "b---2\n",
      "c----100\n"
     ]
    }
   ],
   "source": [
    "# 원소가 자료 구조(iterable)인 경우 원소 개수만큼 변수를 선언해서 개별적으로 받을 수 있다. \n",
    "for k, v in d.items(): \n",
    "    print (k, v, sep=\"---\")"
   ]
  },
  {
   "cell_type": "code",
   "execution_count": 55,
   "id": "92d45ca9",
   "metadata": {},
   "outputs": [
    {
     "name": "stdout",
     "output_type": "stream",
     "text": [
      "1 2\n",
      "10 20\n",
      "100 200\n"
     ]
    }
   ],
   "source": [
    "a = [[1, 2], [10, 20], [100, 200]]\n",
    "for v1, v2 in a:\n",
    "    print(v1, v2)"
   ]
  },
  {
   "cell_type": "code",
   "execution_count": 56,
   "id": "d6c33dd5",
   "metadata": {},
   "outputs": [
    {
     "name": "stdout",
     "output_type": "stream",
     "text": [
      "a\n",
      "b\n",
      "c\n",
      "d\n",
      "e\n"
     ]
    }
   ],
   "source": [
    "for c in \"abcde\":\n",
    "    print(c)"
   ]
  },
  {
   "cell_type": "markdown",
   "id": "1f30cd6f",
   "metadata": {
    "slideshow": {
     "slide_type": "subslide"
    }
   },
   "source": [
    "## continue와 break를 이용한 반복문 제어\n",
    "\n",
    "-   **continue**\n",
    "    -   실행 블록에서 continue가 실행되면 현재 반복을 중단하고 다음 반복을 진행한다.\n",
    "    -   특정 조건에서 처리를 멈추고 다음 처리를 반복할 때 사용한다.\n",
    "-   **break**\n",
    "    -   반복문 실행을 중단한다.\n",
    "    -   특정 조건에서 반복문을 중간에 중지할때 사용한다.\n",
    "-   continue와 break는 특정 조건에서 실행되야 하는 경우가 대부분이므로 if문 안에 작성한다.\n"
   ]
  },
  {
   "cell_type": "code",
   "execution_count": 57,
   "id": "90c41e9f",
   "metadata": {
    "slideshow": {
     "slide_type": "fragment"
    }
   },
   "outputs": [
    {
     "name": "stdout",
     "output_type": "stream",
     "text": [
      "1\n",
      "2\n",
      "4\n",
      "5\n",
      "7\n",
      "8\n"
     ]
    }
   ],
   "source": [
    "l = [1, 2, 3, 4, 5, 6, 7, 8, 9]\n",
    "#3의 배수만 출력\n",
    "for v in l:\n",
    "    if v % 3 == 0:  # 3의 배수일 경우 continue 실행. print 안하고 다음숫자로 건너뜀.\n",
    "        continue\n",
    "\n",
    "    print(v)"
   ]
  },
  {
   "cell_type": "code",
   "execution_count": 58,
   "id": "2a49bd51",
   "metadata": {},
   "outputs": [
    {
     "name": "stdout",
     "output_type": "stream",
     "text": [
      "3\n",
      "6\n",
      "9\n"
     ]
    }
   ],
   "source": [
    "l = [1, 2, 3, 4, 5, 6, 7, 8, 9]\n",
    "#3의 배수만 출력\n",
    "for v in l:\n",
    "    if v % 3 != 0:   # 3의 배수가 아닐 경우 (나머지가 0이 아닐 경우)\n",
    "        continue     # 이 v에 대한 나머지 코드를 건너뛰고 다음 v로 넘어감.\n",
    "\n",
    "    print(v)         # 3의 배수일 때만 출력"
   ]
  },
  {
   "cell_type": "code",
   "execution_count": 59,
   "id": "11f1dd6b",
   "metadata": {},
   "outputs": [
    {
     "name": "stdout",
     "output_type": "stream",
     "text": [
      "종료하려면 'quit'을 입력하세요\n"
     ]
    }
   ],
   "source": [
    "print(\"종료하려면 'quit'을 입력하세요\")\n",
    "v = input(\"숫자\")\n",
    "l = []  # 입력된 숫자를 저장\n",
    "while v != \"quit\":  # quit이면 종료\n",
    "    # 입력받은 숫자를 l에 저장\n",
    "    if not v.isdigit():   # isdigit 숫자인지 아닌지 확인\n",
    "        v = input(\"숫자:\")\n",
    "        continue\n",
    "    l.append(v)\n",
    "    v = input(\"숫자: \")"
   ]
  },
  {
   "cell_type": "code",
   "execution_count": 60,
   "id": "11972961",
   "metadata": {},
   "outputs": [
    {
     "name": "stdout",
     "output_type": "stream",
     "text": [
      "a\n"
     ]
    }
   ],
   "source": [
    "while True:\n",
    "    print('a')\n",
    "    break"
   ]
  },
  {
   "cell_type": "code",
   "execution_count": 61,
   "id": "cfcb897a",
   "metadata": {},
   "outputs": [
    {
     "name": "stdout",
     "output_type": "stream",
     "text": [
      "1\n"
     ]
    }
   ],
   "source": [
    "for i in [1, 2, 3, 4, 5]:\n",
    "    print(i)\n",
    "    break"
   ]
  },
  {
   "cell_type": "code",
   "execution_count": 62,
   "id": "10f12a69",
   "metadata": {},
   "outputs": [
    {
     "data": {
      "text/plain": [
       "97"
      ]
     },
     "execution_count": 62,
     "metadata": {},
     "output_type": "execute_result"
    }
   ],
   "source": [
    "import random\n",
    "random.randint(1, 100)  # 1 ~ 100 사이의 임의의 정수를 반환. (random value 생성.)"
   ]
  },
  {
   "cell_type": "code",
   "execution_count": 63,
   "id": "887d430b",
   "metadata": {},
   "outputs": [
    {
     "name": "stdout",
     "output_type": "stream",
     "text": [
      "종료\n"
     ]
    }
   ],
   "source": [
    "pos_values = []  # 양수들 저장\n",
    "neg_values = []  # 음수들 저장\n",
    "while True:\n",
    "    v = random.randint(-100, 100)\n",
    "    if v > 0:\n",
    "        pos_values.append(v)\n",
    "    elif v < 0:\n",
    "        neg_values.append(v)\n",
    "    else: # 0이면\n",
    "        break\n",
    "\n",
    "print(\"종료\")"
   ]
  },
  {
   "cell_type": "code",
   "execution_count": 64,
   "id": "502244fa",
   "metadata": {},
   "outputs": [
    {
     "name": "stdout",
     "output_type": "stream",
     "text": [
      "33 26\n"
     ]
    }
   ],
   "source": [
    "print(len(pos_values), len(neg_values))"
   ]
  },
  {
   "cell_type": "code",
   "execution_count": 65,
   "id": "80b3e5c9",
   "metadata": {},
   "outputs": [
    {
     "data": {
      "text/plain": [
       "([16, 19, 82, 86, 69, 67, 5, 34, 37, 14],\n",
       " [-36, -26, -59, -55, -16, -3, -98, -73, -10, -29])"
      ]
     },
     "execution_count": 65,
     "metadata": {},
     "output_type": "execute_result"
    }
   ],
   "source": [
    "pos_values[:10], neg_values[:10]"
   ]
  },
  {
   "cell_type": "markdown",
   "id": "dc6099c5",
   "metadata": {
    "slideshow": {
     "slide_type": "slide"
    }
   },
   "source": [
    "## for in 문 연관 내장 함수\n",
    "\n",
    "### range()\n",
    "\n",
    "-   일정한 간격의 연속된 정수를 제공하는 반복가능 객체 생성한다.\n",
    "-   구문\n",
    "    -   `range([시작값], 멈춤값, [증감값])`\n",
    "        -   시작값, 멈춤값, 증감값 모두 정수만 가능하다.\n",
    "        -   시작값 > 멈춤값 이고 증감값이 음수이면 내림차순으로 값을 제공한다.\n",
    "        1. 전달값이 **1개: 멈춤값**.\n",
    "            - 0 ~ (멈춤값-1)까지 1씩 증가하는 정수를 제공\n",
    "        2. 전달값이 **2개: 시작값, 멈춤값**.\n",
    "            - 시작값 ~ (멈춤값-1) 까지 1씩 증가하는 정수 제공\n",
    "        3. 전달값이 **3개: 시작값, 멈춤값, 증감값(간격)**.\n",
    "            - 시작값 ~ (멈춤값-1)까지 증감값만큼 증가하는 정수를 제공.\n"
   ]
  },
  {
   "cell_type": "code",
   "execution_count": 66,
   "id": "352d937b",
   "metadata": {
    "slideshow": {
     "slide_type": "fragment"
    }
   },
   "outputs": [
    {
     "name": "stdout",
     "output_type": "stream",
     "text": [
      "0, 1, 2, 3, 4, "
     ]
    }
   ],
   "source": [
    "for v in range (5):\n",
    "    print(v, end = \", \")"
   ]
  },
  {
   "cell_type": "code",
   "execution_count": 67,
   "id": "940a846c",
   "metadata": {},
   "outputs": [
    {
     "name": "stdout",
     "output_type": "stream",
     "text": [
      "1,2,3,4,5,6,7,8,9,"
     ]
    }
   ],
   "source": [
    "for v in range(1, 10):\n",
    "    print(v, end=\",\")"
   ]
  },
  {
   "cell_type": "code",
   "execution_count": 68,
   "id": "20628dac",
   "metadata": {},
   "outputs": [
    {
     "name": "stdout",
     "output_type": "stream",
     "text": [
      "100,110,120,130,140,150,160,170,180,190,"
     ]
    }
   ],
   "source": [
    "for v in range(100, 200, 10):\n",
    "    print(v, end=\",\")"
   ]
  },
  {
   "cell_type": "code",
   "execution_count": 69,
   "id": "37ef586a",
   "metadata": {},
   "outputs": [
    {
     "name": "stdout",
     "output_type": "stream",
     "text": [
      "200, 150, 100, 50, 0, -50, -100, -150, "
     ]
    }
   ],
   "source": [
    "for v in range(200, -200, -50):\n",
    "    print(v, end=\", \")"
   ]
  },
  {
   "cell_type": "code",
   "execution_count": 70,
   "id": "9e06c07e",
   "metadata": {},
   "outputs": [
    {
     "name": "stdout",
     "output_type": "stream",
     "text": [
      "0 안녕하세요\n",
      "1 안녕하세요\n",
      "2 안녕하세요\n",
      "3 안녕하세요\n",
      "4 안녕하세요\n",
      "5 안녕하세요\n",
      "6 안녕하세요\n",
      "7 안녕하세요\n",
      "8 안녕하세요\n",
      "9 안녕하세요\n"
     ]
    }
   ],
   "source": [
    "# 안녕하세요. 10번 출번\n",
    "for v in range(10):\n",
    "    print(v, \"안녕하세요\")  # v 붙여도 되고 안 붙여도 됨.\n",
    "\n",
    "\n",
    "# for _ in range(10):\n",
    "#      print(_, \"안녕하세요\")"
   ]
  },
  {
   "cell_type": "code",
   "execution_count": 71,
   "id": "640d3c95",
   "metadata": {},
   "outputs": [
    {
     "ename": "TypeError",
     "evalue": "'list' object is not callable",
     "output_type": "error",
     "traceback": [
      "\u001b[31m---------------------------------------------------------------------------\u001b[39m",
      "\u001b[31mTypeError\u001b[39m                                 Traceback (most recent call last)",
      "\u001b[36mCell\u001b[39m\u001b[36m \u001b[39m\u001b[32mIn[71]\u001b[39m\u001b[32m, line 3\u001b[39m\n\u001b[32m      1\u001b[39m \u001b[38;5;66;03m# l = [1, 2, 3, 4, 5, 6, 7, 8, 9]\u001b[39;00m\n\u001b[32m----> \u001b[39m\u001b[32m3\u001b[39m \u001b[38;5;28;43mlist\u001b[39;49m\u001b[43m(\u001b[49m\u001b[38;5;28;43mrange\u001b[39;49m\u001b[43m(\u001b[49m\u001b[32;43m1\u001b[39;49m\u001b[43m,\u001b[49m\u001b[43m \u001b[49m\u001b[32;43m11\u001b[39;49m\u001b[43m)\u001b[49m\u001b[43m)\u001b[49m\n",
      "\u001b[31mTypeError\u001b[39m: 'list' object is not callable"
     ]
    }
   ],
   "source": [
    "# l = [1, 2, 3, 4, 5, 6, 7, 8, 9]\n",
    "\n",
    "list(range(1, 11))"
   ]
  },
  {
   "cell_type": "code",
   "execution_count": null,
   "id": "7613410a",
   "metadata": {},
   "outputs": [
    {
     "data": {
      "text/plain": [
       "(1, 11, 21, 31, 41, 51, 61, 71, 81, 91)"
      ]
     },
     "execution_count": 70,
     "metadata": {},
     "output_type": "execute_result"
    }
   ],
   "source": [
    "tuple(range(1, 101, 10))"
   ]
  },
  {
   "cell_type": "markdown",
   "id": "5de9d74e",
   "metadata": {
    "slideshow": {
     "slide_type": "subslide"
    }
   },
   "source": [
    "### enumerate()\n",
    "\n",
    "-   구문\n",
    "    -   `enumerate(Iterable,  [, start=정수])`\n",
    "        -   현재 몇번째 값을 제공하는 지(현재 몇번째 반복인지)를 나타내는 **index**와 제공하는 **원소**를 tuple로 묶어서 반환\n",
    "        -   Iterable\n",
    "            -   값을 제공할 Iterable객체\n",
    "        -   start: 정수\n",
    "            -   index 시작 값. 생략하면 0부터 시작한다.\n"
   ]
  },
  {
   "cell_type": "code",
   "execution_count": null,
   "id": "33dd96c5",
   "metadata": {
    "slideshow": {
     "slide_type": "fragment"
    }
   },
   "outputs": [
    {
     "name": "stdout",
     "output_type": "stream",
     "text": [
      "0 20\n",
      "1 21\n",
      "2 22\n",
      "3 23\n",
      "4 24\n",
      "5 25\n",
      "6 26\n",
      "7 27\n",
      "8 28\n",
      "9 29\n",
      "10 30\n"
     ]
    }
   ],
   "source": [
    "l = list(range(20, 31))\n",
    "for index, value in enumerate(l):  # (순번, 값)\n",
    "    print(index, value) "
   ]
  },
  {
   "cell_type": "code",
   "execution_count": null,
   "id": "9ac73937",
   "metadata": {},
   "outputs": [
    {
     "name": "stdout",
     "output_type": "stream",
     "text": [
      "100 20\n",
      "101 21\n",
      "102 22\n",
      "103 23\n",
      "104 24\n",
      "105 25\n",
      "106 26\n",
      "107 27\n",
      "108 28\n",
      "109 29\n",
      "110 30\n"
     ]
    }
   ],
   "source": [
    "l = list(range(20, 31))\n",
    "for index, value in enumerate(l, start=100):  # (순번, 값). 시작 index 설정해줄 수 있다. 되게 많이 씀.\n",
    "    print(index, value) "
   ]
  },
  {
   "cell_type": "markdown",
   "id": "f5a5540f",
   "metadata": {
    "slideshow": {
     "slide_type": "subslide"
    }
   },
   "source": [
    "### zip()\n",
    "\n",
    "-   여러 개의 Iterable 객체를 받아 반복시 같은 index의 값끼리 튜플로 묶어 반환한다.\n",
    "-   구문\n",
    "    -   `zip(Iterable1, Iterable2, Iterable3 [, .......])`\n",
    "        -   Iterable 2개이상.전달한다.\n",
    "-   각 Iterable이 제공하는 원소의 개수가 다를 경우 가장 적은 것의 개수에 맞춰 반복한다.\n"
   ]
  },
  {
   "cell_type": "code",
   "execution_count": null,
   "metadata": {},
   "outputs": [
    {
     "name": "stdout",
     "output_type": "stream",
     "text": [
      "홍길동 20 서울\n",
      "이순신 30 부산\n",
      "유관순 40 광주\n",
      "강감찬 50 인천\n"
     ]
    }
   ],
   "source": [
    "names = [\"홍길동\", \"이순신\", \"유관순\", \"강감찬\"]\n",
    "ages = [20, 30, 40, 50]\n",
    "addresses = [\"서울\", \"부산\", \"광주\", \"인천\"]\n",
    "\n",
    "for name, age, address in zip(names, ages, addresses):\n",
    "    print(name, age, address)"
   ]
  },
  {
   "cell_type": "code",
   "execution_count": null,
   "id": "d6c3b852",
   "metadata": {},
   "outputs": [],
   "source": [
    "info_list = []\n",
    "for name, age, address in zip(names, ages, addresses):\n",
    "     # 한 사람의 정보를 dict에 담아서 저장.\n",
    "     info = {\"name\": name, \"age\": age, \"address\": address}\n",
    "     info_list.append(info)"
   ]
  },
  {
   "cell_type": "code",
   "execution_count": null,
   "id": "67e6f229",
   "metadata": {},
   "outputs": [
    {
     "data": {
      "text/plain": [
       "[{'name': '홍길동', 'age': 20, 'address': '서울'},\n",
       " {'name': '이순신', 'age': 30, 'address': '부산'},\n",
       " {'name': '유관순', 'age': 40, 'address': '광주'},\n",
       " {'name': '강감찬', 'age': 50, 'address': '인천'}]"
      ]
     },
     "execution_count": 33,
     "metadata": {},
     "output_type": "execute_result"
    }
   ],
   "source": [
    "info_list  # 세 가지 다 많이 씁니다. range 몇 번 반복해라 할 때 \n",
    "#몇 번째 반복 중인지 확인 할 때 \n",
    "#zip 같은 index에 있는 값만. "
   ]
  },
  {
   "cell_type": "markdown",
   "id": "2df89dae",
   "metadata": {
    "slideshow": {
     "slide_type": "subslide"
    }
   },
   "source": [
    "# 컴프리헨션(Comprehension)\n",
    "\n",
    "-   기존 Iterable의 원소들을 이용해서 새로운 자료구조(List, Dictionary, Set)를 생성하는 구문.\n",
    "    -   기존 Iterable의 **원소들을 처리한 결과**나 **특정 조건이 True인 값들을** 새로운 자료구조에 넣을때 사용.\n",
    "    -   결과를 넣을 새로운 자료구조 타입에 따라 다음 세가지가 있다.\n",
    "        -   리스트 컴프리헨션\n",
    "        -   딕셔너리 컴프리헨션\n",
    "        -   셋 컴프리헨션\n",
    "- **튜플 컴프리헨션**은 tuple() 함수를 이용해서 만든다.\n",
    "-   **딕셔너리 컴프리헨션**과 **셋 컴프리헨션**은 파이썬 3 에 새로 추가되었다.\n",
    "-   컴프리헨션 문법은 iterable 을 타입을 넣는 곳에서는 다 적용할 수있다.\n"
   ]
  },
  {
   "cell_type": "code",
   "execution_count": 1,
   "id": "e04827d9",
   "metadata": {
    "slideshow": {
     "slide_type": "fragment"
    }
   },
   "outputs": [],
   "source": [
    "l = list(range(1, 11))\n",
    "l2 = []    # l의 원소들을 10배한 값들을 저장.\n",
    "\n",
    "for v in l:\n",
    "    l2.append (v * 10)"
   ]
  },
  {
   "cell_type": "code",
   "execution_count": null,
   "id": "125c84ec",
   "metadata": {},
   "outputs": [
    {
     "data": {
      "text/plain": [
       "[10, 20, 30, 40, 50, 60, 70, 80, 90, 100]"
      ]
     },
     "execution_count": 91,
     "metadata": {},
     "output_type": "execute_result"
    }
   ],
   "source": [
    "l3 = [v * 10 for v in l]  # comprehension. list 만들 때 썼으니 list comprehension.\n",
    "l3"
   ]
  },
  {
   "cell_type": "code",
   "execution_count": null,
   "id": "d6332962",
   "metadata": {},
   "outputs": [],
   "source": [
    "{v + 1 : v * 10 for v in l}  # dic comprehension."
   ]
  },
  {
   "cell_type": "code",
   "execution_count": null,
   "id": "29ef2eee",
   "metadata": {},
   "outputs": [
    {
     "data": {
      "text/plain": [
       "[2, 4, 6, 8, 10]"
      ]
     },
     "execution_count": 94,
     "metadata": {},
     "output_type": "execute_result"
    }
   ],
   "source": [
    "# 짝수만 저장\n",
    "l4 = []\n",
    "for v in l:\n",
    "    if v % 2 == 0:\n",
    "        l4.append(v)\n",
    "l4"
   ]
  },
  {
   "cell_type": "code",
   "execution_count": null,
   "id": "878ea55b",
   "metadata": {},
   "outputs": [
    {
     "data": {
      "text/plain": [
       "[2, 4, 6, 8, 10]"
      ]
     },
     "execution_count": 95,
     "metadata": {},
     "output_type": "execute_result"
    }
   ],
   "source": [
    "l5 = [v for v in l if v % 2 == 0]  # 위와 결과 똑같다\n",
    "l5 "
   ]
  },
  {
   "cell_type": "code",
   "execution_count": null,
   "id": "98cdc4dd",
   "metadata": {},
   "outputs": [
    {
     "data": {
      "text/plain": [
       "[4, 8, 12, 16, 20]"
      ]
     },
     "execution_count": 96,
     "metadata": {},
     "output_type": "execute_result"
    }
   ],
   "source": [
    "# 짝수인 것의 2배를 저장.\n",
    "[v * 2 for v in l if v % 2 == 0]  "
   ]
  },
  {
   "cell_type": "code",
   "execution_count": 2,
   "id": "f30cc7f4",
   "metadata": {},
   "outputs": [
    {
     "data": {
      "text/plain": [
       "(4, 8, 12, 16, 20)"
      ]
     },
     "execution_count": 2,
     "metadata": {},
     "output_type": "execute_result"
    }
   ],
   "source": [
    "tuple(v * 2 for v in l if v % 2 == 0)"
   ]
  },
  {
   "cell_type": "code",
   "execution_count": null,
   "id": "73d4fc98",
   "metadata": {},
   "outputs": [
    {
     "data": {
      "text/plain": [
       "[4, 8, 12, 16, 20]"
      ]
     },
     "execution_count": 97,
     "metadata": {},
     "output_type": "execute_result"
    }
   ],
   "source": [
    "list(v * 2 for v in l if v % 2 == 0)"
   ]
  },
  {
   "cell_type": "code",
   "execution_count": 3,
   "id": "bad9d272",
   "metadata": {},
   "outputs": [],
   "source": [
    "l =[\n",
    "   [1, 2, 3], \n",
    "   [4, 5, 6]\n",
    "]\n",
    "result = []\n",
    "for vs in l:\n",
    "    for v in vs:\n",
    "        result.append(v)"
   ]
  },
  {
   "cell_type": "code",
   "execution_count": 4,
   "id": "5d0650f4",
   "metadata": {},
   "outputs": [
    {
     "data": {
      "text/plain": [
       "[1, 2, 3, 4, 5, 6]"
      ]
     },
     "execution_count": 4,
     "metadata": {},
     "output_type": "execute_result"
    }
   ],
   "source": [
    "result"
   ]
  },
  {
   "cell_type": "code",
   "execution_count": null,
   "id": "8a201e63",
   "metadata": {},
   "outputs": [],
   "source": [
    "[v for vs in l for v in vs if v % 2 == 0]  # 위랑 결과 똑같음."
   ]
  },
  {
   "cell_type": "markdown",
   "id": "092288d7",
   "metadata": {
    "slideshow": {
     "slide_type": "skip"
    }
   },
   "source": [
    "# TODO\n"
   ]
  },
  {
   "cell_type": "code",
   "execution_count": null,
   "id": "a0cc04fa",
   "metadata": {
    "slideshow": {
     "slide_type": "skip"
    }
   },
   "outputs": [
    {
     "name": "stdout",
     "output_type": "stream",
     "text": [
      "ID를 입력받습니다.\n",
      "사용할 수 있습니다.\n",
      "사용할 수 있습니다.\n"
     ]
    }
   ],
   "source": [
    "# (1) 사용자로 부터 ID를 입력 받은 뒤 입력받은 ID가 5글자 이상이면 \"사용할 수 있습니다.\"를 5글자 미만이면 \"사용할 수 없는 ID입니다.\"를 출력하세요.\n",
    "\n",
    "# 내가 푼 것\n",
    "print(\"ID를 입력받습니다.\")\n",
    "num = input()\n",
    "if len(num) > 4:\n",
    "    print(\"사용할 수 있습니다.\")\n",
    "else :\n",
    "    print(\"사용할 수 없는 ID 입니다.\")  \n",
    "\n",
    "# 강사님이 푼 것\n",
    "cust_id = input(\"ID: \").strip()  #strip()은 공백 없애는 함수\n",
    "if len(cust_id) >= 5:\n",
    "# if len(cust_id): # 1글자 이상이면 이거 사용. len 사용 안 해도 됨\n",
    "    print(\"사용할 수 있습니다.\")\n",
    "else: 32434\n",
    "    print(\"사용할 수 없는 ID입니다.\")"
   ]
  },
  {
   "cell_type": "code",
   "execution_count": null,
   "id": "3c8a6b65",
   "metadata": {},
   "outputs": [
    {
     "name": "stdout",
     "output_type": "stream",
     "text": [
      "우리나라 도시명을 입력받습니다.\n",
      "특별시\n",
      "서울은 특별시\n"
     ]
    }
   ],
   "source": [
    "# (2) 사용자로부터 우리나라 도시명을 입력 받은 뒤 입력받은 도시명이 서울이면 \"특별시\"를 인천,부산,광주,대구,대전,울산 이면 \"광역시\"를 나머지는 \"특별시나 광역시가 아닙니다.\"를 출력하세요.\n",
    "\n",
    "# 내가 푼 것\n",
    "print(\"우리나라 도시명을 입력받습니다.\")\n",
    "con = input()\n",
    "if con == \"서울\":\n",
    "    print(\"특별시\")\n",
    "elif con in ['인천', '부산', '광주', '대구', '대전', '울산']:\n",
    "    print(\"광역시\")\n",
    "else:\n",
    "    print(\"특별시나 광역시가 아닙니다.\")\n",
    "\n",
    "# 강사님이 푼 것\n",
    "city = input(\"도시명: \")\n",
    "if city == \"서울\":\n",
    "    print(f\"{city}은 특별시\")\n",
    "elif city in [\"인천\", \"부산\", \"광주\", \"대구\", \"대전\", \"울산\"]:\n",
    "    print(f\"{city}(은)는 광역시\")\n",
    "else: \n",
    "    print(f\"{city}는 특별시나 광역시가 아닙니다.\")"
   ]
  },
  {
   "cell_type": "code",
   "execution_count": null,
   "id": "40d60fd7",
   "metadata": {},
   "outputs": [
    {
     "name": "stdout",
     "output_type": "stream",
     "text": [
      "총합: 890\n",
      "평균점수: 89.0\n"
     ]
    }
   ],
   "source": [
    "# (3-4) 못 푼 문제. 강사님 해답.\n",
    "# (3) 아래 리스트의 평균을 구하시오.\n",
    "jumsu = [100, 90, 100, 80, 70, 100, 80, 90, 95, 85]\n",
    "\n",
    "sum_result = 0  # 합계를 저장할 변수. sum_result에 result를 붙이는 이유는 함수로 사용하기 위함. 그냥 sum 하면 이후에 사용하는 sum은 변수가 됨.\n",
    "for value in jumsu:\n",
    "    sum_result = sum_result + value  #sum_result += value  할당 연산자 이용\n",
    "print(f\"총합: {sum_result}\")\n",
    "avg_result = sum_result / len(jumsu)\n",
    "print(f\"평균점수: {avg_result}\")\n",
    "\n",
    "#python에 합계 구해주는 함수가 있음\n",
    "#sum(jumsu) / len(jumsu)"
   ]
  },
  {
   "cell_type": "code",
   "execution_count": null,
   "id": "b77615f8",
   "metadata": {},
   "outputs": [
    {
     "name": "stdout",
     "output_type": "stream",
     "text": [
      "pass\n",
      "pass\n",
      "pass\n",
      "fail\n",
      "fail\n",
      "pass\n",
      "fail\n",
      "pass\n",
      "pass\n",
      "fail\n",
      "1 - pass\n",
      "2 - pass\n",
      "3 - pass\n",
      "4 - fail\n",
      "5 - fail\n",
      "6 - pass\n",
      "7 - fail\n",
      "8 - pass\n",
      "9 - pass\n",
      "10 - fail\n"
     ]
    }
   ],
   "source": [
    "# 못 푼 문제. 강사님 해답.\n",
    "# (4) 위 jumsu리스트에서 평균점수이상은 pass, 미만은 fail을 index번호와 함께 출력하시오. \n",
    "# (ex: 0-pass, 1-pass, 2-fail)\n",
    "\n",
    "# 평균 넘는 값 출력\n",
    "for v in jumsu:\n",
    "    print(\"pass\" if v >= avg_result else \"fail\")\n",
    "\n",
    "# 번호와 함께 출력\n",
    "for idx, v in enumerate(jumsu, start=1):\n",
    "    print(f\"{idx} - {\"pass\" if v >= avg_result else \"fail\"}\")"
   ]
  },
  {
   "cell_type": "code",
   "execution_count": null,
   "id": "eee72643",
   "metadata": {},
   "outputs": [
    {
     "name": "stdout",
     "output_type": "stream",
     "text": [
      "최고점수:95\n"
     ]
    }
   ],
   "source": [
    "# 못 푼 문제. 강사님 해답.\n",
    "# (5) 아래 리스트 값들 중 최대값을 조회해 출력하시오.\n",
    "jumsu = [60, 90, 80, 80, 70, 55, 80, 90, 95, 85]\n",
    "\n",
    "# 하나하나씩 비교하는 방법 사용\n",
    "max_value = jumsu[0]  # 최소값 넣고 시작\n",
    "for v in jumsu:\n",
    "    if v > max_value:  #최소점수는 위 '0' 대신 'jumsu[0] 넣고\n",
    "        max_value = v\n",
    "\n",
    "print(f\"최고점수:{max_value}\")"
   ]
  },
  {
   "cell_type": "code",
   "execution_count": null,
   "id": "8a7a55b3",
   "metadata": {},
   "outputs": [
    {
     "data": {
      "text/plain": [
       "(95, 55)"
      ]
     },
     "execution_count": 160,
     "metadata": {},
     "output_type": "execute_result"
    }
   ],
   "source": [
    "#위 문제 내장함수 있음. 최댓값, 최솟값\n",
    "max(jumsu), min(jumsu)"
   ]
  },
  {
   "cell_type": "code",
   "execution_count": null,
   "id": "73122e57",
   "metadata": {},
   "outputs": [
    {
     "name": "stdout",
     "output_type": "stream",
     "text": [
      "3 X 1 = 3\n",
      "3 X 2 = 6\n",
      "3 X 3 = 9\n",
      "3 X 4 = 12\n",
      "3 X 5 = 15\n",
      "3 X 6 = 18\n",
      "3 X 7 = 21\n",
      "3 X 8 = 24\n",
      "3 X 9 = 27\n"
     ]
    }
   ],
   "source": [
    "# 못 푼 문제. 강사님 해답.\n",
    "# (6) 사용자로부터 정수를 입력받아 그 정수 단의 구구단을 출력하시오.\n",
    "# ex)\n",
    "# 단을 입력하시오 : 2\n",
    "# 2 x 1 = 2\n",
    "# ..\n",
    "# 2 x 9 = 18\n",
    "\n",
    "# 컴프리헨션\n",
    "num_str = input(\"단을 입력하시오: \")\n",
    "if num_str.isdigit():\n",
    "    num = int(num_str)\n",
    "    for value in range(1, 10): # 1~9, 1씩 증가\n",
    "        print(f\"{num} X {value} = {num * value}\")\n",
    "else:\n",
    "    print(\"단은 숫자만 입력하세요.\")"
   ]
  },
  {
   "cell_type": "code",
   "execution_count": null,
   "id": "adb20d2e",
   "metadata": {},
   "outputs": [
    {
     "name": "stdout",
     "output_type": "stream",
     "text": [
      "1\n",
      "2\n",
      "3\n",
      "4\n",
      "5\n",
      "6\n",
      "7\n",
      "8\n",
      "9\n"
     ]
    }
   ],
   "source": [
    "for value in range(1, 10):\n",
    "    print(value)"
   ]
  },
  {
   "cell_type": "code",
   "execution_count": null,
   "id": "eaa61c84",
   "metadata": {},
   "outputs": [
    {
     "name": "stdout",
     "output_type": "stream",
     "text": [
      "2 X 1 = 2\t3 X 1 = 3\t4 X 1 = 4\t5 X 1 = 5\t6 X 1 = 6\t7 X 1 = 7\t8 X 1 = 8\t9 X 1 = 9\t\n",
      "2 X 2 = 4\t3 X 2 = 6\t4 X 2 = 8\t5 X 2 = 10\t6 X 2 = 12\t7 X 2 = 14\t8 X 2 = 16\t9 X 2 = 18\t\n",
      "2 X 3 = 6\t3 X 3 = 9\t4 X 3 = 12\t5 X 3 = 15\t6 X 3 = 18\t7 X 3 = 21\t8 X 3 = 24\t9 X 3 = 27\t\n",
      "2 X 4 = 8\t3 X 4 = 12\t4 X 4 = 16\t5 X 4 = 20\t6 X 4 = 24\t7 X 4 = 28\t8 X 4 = 32\t9 X 4 = 36\t\n",
      "2 X 5 = 10\t3 X 5 = 15\t4 X 5 = 20\t5 X 5 = 25\t6 X 5 = 30\t7 X 5 = 35\t8 X 5 = 40\t9 X 5 = 45\t\n",
      "2 X 6 = 12\t3 X 6 = 18\t4 X 6 = 24\t5 X 6 = 30\t6 X 6 = 36\t7 X 6 = 42\t8 X 6 = 48\t9 X 6 = 54\t\n",
      "2 X 7 = 14\t3 X 7 = 21\t4 X 7 = 28\t5 X 7 = 35\t6 X 7 = 42\t7 X 7 = 49\t8 X 7 = 56\t9 X 7 = 63\t\n",
      "2 X 8 = 16\t3 X 8 = 24\t4 X 8 = 32\t5 X 8 = 40\t6 X 8 = 48\t7 X 8 = 56\t8 X 8 = 64\t9 X 8 = 72\t\n",
      "2 X 9 = 18\t3 X 9 = 27\t4 X 9 = 36\t5 X 9 = 45\t6 X 9 = 54\t7 X 9 = 63\t8 X 9 = 72\t9 X 9 = 81\t\n"
     ]
    }
   ],
   "source": [
    "for value in range(1, 10):\n",
    "    for dan in range(2, 10):\n",
    "        print(f\"{dan} X {value} = {dan * value}\\t\", end=\"\")\n",
    "    print()"
   ]
  },
  {
   "cell_type": "code",
   "execution_count": 5,
   "id": "a0dcf655",
   "metadata": {},
   "outputs": [
    {
     "name": "stdout",
     "output_type": "stream",
     "text": [
      "[10, 30, 70, 5, 5, 120, 700, 1, 35, 35] [(10, 100), (30, 300), (70, 700), (5, 50), (5, 50), (120, 1200), (700, 7000), (1, 10), (35, 350), (35, 350)]\n"
     ]
    },
    {
     "data": {
      "text/plain": [
       "[((10, 100),\n",
       "  (10,\n",
       "   100,\n",
       "   10,\n",
       "   100,\n",
       "   10,\n",
       "   100,\n",
       "   10,\n",
       "   100,\n",
       "   10,\n",
       "   100,\n",
       "   10,\n",
       "   100,\n",
       "   10,\n",
       "   100,\n",
       "   10,\n",
       "   100,\n",
       "   10,\n",
       "   100,\n",
       "   10,\n",
       "   100)),\n",
       " ((30, 300),\n",
       "  (30,\n",
       "   300,\n",
       "   30,\n",
       "   300,\n",
       "   30,\n",
       "   300,\n",
       "   30,\n",
       "   300,\n",
       "   30,\n",
       "   300,\n",
       "   30,\n",
       "   300,\n",
       "   30,\n",
       "   300,\n",
       "   30,\n",
       "   300,\n",
       "   30,\n",
       "   300,\n",
       "   30,\n",
       "   300)),\n",
       " ((70, 700),\n",
       "  (70,\n",
       "   700,\n",
       "   70,\n",
       "   700,\n",
       "   70,\n",
       "   700,\n",
       "   70,\n",
       "   700,\n",
       "   70,\n",
       "   700,\n",
       "   70,\n",
       "   700,\n",
       "   70,\n",
       "   700,\n",
       "   70,\n",
       "   700,\n",
       "   70,\n",
       "   700,\n",
       "   70,\n",
       "   700)),\n",
       " ((5, 50),\n",
       "  (5, 50, 5, 50, 5, 50, 5, 50, 5, 50, 5, 50, 5, 50, 5, 50, 5, 50, 5, 50)),\n",
       " ((5, 50),\n",
       "  (5, 50, 5, 50, 5, 50, 5, 50, 5, 50, 5, 50, 5, 50, 5, 50, 5, 50, 5, 50)),\n",
       " ((120, 1200),\n",
       "  (120,\n",
       "   1200,\n",
       "   120,\n",
       "   1200,\n",
       "   120,\n",
       "   1200,\n",
       "   120,\n",
       "   1200,\n",
       "   120,\n",
       "   1200,\n",
       "   120,\n",
       "   1200,\n",
       "   120,\n",
       "   1200,\n",
       "   120,\n",
       "   1200,\n",
       "   120,\n",
       "   1200,\n",
       "   120,\n",
       "   1200)),\n",
       " ((700, 7000),\n",
       "  (700,\n",
       "   7000,\n",
       "   700,\n",
       "   7000,\n",
       "   700,\n",
       "   7000,\n",
       "   700,\n",
       "   7000,\n",
       "   700,\n",
       "   7000,\n",
       "   700,\n",
       "   7000,\n",
       "   700,\n",
       "   7000,\n",
       "   700,\n",
       "   7000,\n",
       "   700,\n",
       "   7000,\n",
       "   700,\n",
       "   7000)),\n",
       " ((1, 10),\n",
       "  (1, 10, 1, 10, 1, 10, 1, 10, 1, 10, 1, 10, 1, 10, 1, 10, 1, 10, 1, 10)),\n",
       " ((35, 350),\n",
       "  (35,\n",
       "   350,\n",
       "   35,\n",
       "   350,\n",
       "   35,\n",
       "   350,\n",
       "   35,\n",
       "   350,\n",
       "   35,\n",
       "   350,\n",
       "   35,\n",
       "   350,\n",
       "   35,\n",
       "   350,\n",
       "   35,\n",
       "   350,\n",
       "   35,\n",
       "   350,\n",
       "   35,\n",
       "   350)),\n",
       " ((35, 350),\n",
       "  (35,\n",
       "   350,\n",
       "   35,\n",
       "   350,\n",
       "   35,\n",
       "   350,\n",
       "   35,\n",
       "   350,\n",
       "   35,\n",
       "   350,\n",
       "   35,\n",
       "   350,\n",
       "   35,\n",
       "   350,\n",
       "   35,\n",
       "   350,\n",
       "   35,\n",
       "   350,\n",
       "   35,\n",
       "   350))]"
      ]
     },
     "execution_count": 5,
     "metadata": {},
     "output_type": "execute_result"
    }
   ],
   "source": [
    "# (7) 다음 리스트의 원소들에 10배한 값을 (원래값, 10배값) 의 튜플 묶음으로 가지는 리스트를 만드시오 (리스트 컴프리헨션 이용)\n",
    "# Ex) [(10,100), (30,300), .., (35, 350)]\n",
    "lst = [10, 30, 70, 5, 5, 120, 700, 1, 35, 35]\n",
    "\n",
    "lst3 = [(v, v * 10) for v in lst] \n",
    "print(lst, lst3)\n",
    "#내은님이 도와줘서 했음\n",
    "\n",
    "#강사님이 푼 것\n",
    "#result = []\n",
    "#for v in lst3:\n",
    "#    result.append((v, v*10))\n",
    "\n",
    "# 컴프리헨션\n",
    "result = [ (v, v*10) for v in lst3 ]  # 일괄 처리 결과를 list에 담기.\n",
    "result"
   ]
  },
  {
   "cell_type": "code",
   "execution_count": null,
   "id": "91887cba",
   "metadata": {},
   "outputs": [
    {
     "name": "stdout",
     "output_type": "stream",
     "text": [
      "[3, 33, 21, 33, 60, 120]\n",
      "[3, 33, 21, 33, 60, 120]\n"
     ]
    }
   ],
   "source": [
    "# 못 푼 문제. 강사님 해답.\n",
    "# (8) 다음 리스트가 가진 값들 중 3의 배수만 가지는 리스트를 만드시오. (리스트 컴프리헨션 이용)\n",
    "lst2 = [3, 20, 33, 21, 33, 8, 11, 10, 7, 17, 60, 120, 2]\n",
    "\n",
    "result = []\n",
    "for v in lst2:\n",
    "    if v % 3 == 0:\n",
    "        result.append(v)\n",
    "print(result)\n",
    "\n",
    "result2 = [ v for v in lst2 if v % 3 == 0 ]  # 특정 조건의 값들만 선택할 때\n",
    "print(result2)"
   ]
  },
  {
   "cell_type": "code",
   "execution_count": null,
   "id": "b59fd5d8",
   "metadata": {},
   "outputs": [
    {
     "data": {
      "text/plain": [
       "['a.exe', 'function.exe', 'b.exe', 'run.exe']"
      ]
     },
     "execution_count": 179,
     "metadata": {},
     "output_type": "execute_result"
    }
   ],
   "source": [
    "# 못 푼 문제. 강사님 해답.\n",
    "# (9)) 다음 파일이름들을 담은 리스트에서 확장자가 exe인 파일만 골라서 새로운 리스트에 담으시오.(string의 endswith()함수 이용)\n",
    "file_names = [\n",
    "    \"test.txt\",\n",
    "    \"a.exe\",\n",
    "    \"jupyter.bat\",\n",
    "    \"function.exe\",\n",
    "    \"b.exe\",\n",
    "    \"cat.jpg\",\n",
    "    \"dog.png\",\n",
    "    \"run.exe\",\n",
    "    \"i.dll\",\n",
    "]\n",
    "\n",
    "result = [file_name for file_name in file_names if file_name.endswith(\".exe\")]\n",
    "result"
   ]
  },
  {
   "cell_type": "code",
   "execution_count": null,
   "id": "910847ed",
   "metadata": {},
   "outputs": [
    {
     "data": {
      "text/plain": [
       "{'mystroy.txt': 11, 'jupyter.bat': 11, 'function.exe': 12}"
      ]
     },
     "execution_count": 185,
     "metadata": {},
     "output_type": "execute_result"
    }
   ],
   "source": [
    "# 못 푼 문제. 강사님 해답.\n",
    "# (10) 다음 중 10글자 이상인 파일명(확장자포함)만 가지는 리스트를 만드시오.\n",
    "file_names = [\n",
    "    \"mystroy.txt\",\n",
    "    \"a.exe\",\n",
    "    \"jupyter.bat\",\n",
    "    \"function.exe\",\n",
    "    \"b.exe\",\n",
    "    \"cat.jpg\",\n",
    "    \"dog.png\",\n",
    "    \"run.exe\",\n",
    "    \"i.dll\",\n",
    "]\n",
    "\n",
    "# result = [file_names for file_names in file_names if len(file_names) >= 10]\n",
    "result = {file_names:len(file_names) for file_names in file_names if len(file_names) >= 10}\n",
    "\n",
    "result"
   ]
  }
 ],
 "metadata": {
  "kernelspec": {
   "display_name": "Python 3",
   "language": "python",
   "name": "python3"
  },
  "language_info": {
   "codemirror_mode": {
    "name": "ipython",
    "version": 3
   },
   "file_extension": ".py",
   "mimetype": "text/x-python",
   "name": "python",
   "nbconvert_exporter": "python",
   "pygments_lexer": "ipython3",
   "version": "3.13.7"
  },
  "toc": {
   "base_numbering": 1,
   "nav_menu": {},
   "number_sections": true,
   "sideBar": true,
   "skip_h1_title": false,
   "title_cell": "Table of Contents",
   "title_sidebar": "Contents",
   "toc_cell": false,
   "toc_position": {},
   "toc_section_display": true,
   "toc_window_display": false
  },
  "varInspector": {
   "cols": {
    "lenName": 16,
    "lenType": 16,
    "lenVar": 40
   },
   "kernels_config": {
    "python": {
     "delete_cmd_postfix": "",
     "delete_cmd_prefix": "del ",
     "library": "var_list.py",
     "varRefreshCmd": "print(var_dic_list())"
    },
    "r": {
     "delete_cmd_postfix": ") ",
     "delete_cmd_prefix": "rm(",
     "library": "var_list.r",
     "varRefreshCmd": "cat(var_dic_list()) "
    }
   },
   "types_to_exclude": [
    "module",
    "function",
    "builtin_function_or_method",
    "instance",
    "_Feature"
   ],
   "window_display": false
  }
 },
 "nbformat": 4,
 "nbformat_minor": 5
}
